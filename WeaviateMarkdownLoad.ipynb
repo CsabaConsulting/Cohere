{
 "cells": [
  {
   "cell_type": "code",
   "execution_count": 1,
   "id": "e4e90e5d-06e6-4ee8-bfdc-f1d24fd27873",
   "metadata": {},
   "outputs": [
    {
     "data": {
      "text/plain": [
       "True"
      ]
     },
     "execution_count": 1,
     "metadata": {},
     "output_type": "execute_result"
    }
   ],
   "source": [
    "import os\n",
    "import weaviate\n",
    "\n",
    "weaviate_api_key = os.getenv(\"weaviate_api_key\") or \"weaviate_api_key\"\n",
    "weaviate_url = os.getenv(\"weaviate_url\") or \"weaviate_url\"\n",
    "cohere_api_key = os.getenv(\"COHERE_API_KEY\") or \"COHERE_API_KEY\"\n",
    "\n",
    "auth_config = weaviate.AuthApiKey(api_key=weaviate_api_key)\n",
    "\n",
    "client = weaviate.Client(\n",
    "  url=weaviate_url,\n",
    "  auth_client_secret=auth_config,\n",
    "  additional_headers={\"X-Cohere-Api-Key\": cohere_api_key}\n",
    ")\n",
    "client.is_ready()"
   ]
  },
  {
   "cell_type": "code",
   "execution_count": 2,
   "id": "7f1dab66-d354-48e2-bfba-4901c0517600",
   "metadata": {
    "tags": []
   },
   "outputs": [
    {
     "data": {
      "text/plain": [
       "<weaviate.batch.crud_batch.Batch at 0x7f33e8f1ed30>"
      ]
     },
     "execution_count": 2,
     "metadata": {},
     "output_type": "execute_result"
    }
   ],
   "source": [
    "### Step 1 - configure Weaviate Batch, which optimizes CRUD operations in bulk\n",
    "# - starting batch size of 100\n",
    "# - dynamically increase/decrease based on performance\n",
    "# - add timeout retries if something goes wrong\n",
    "\n",
    "client.batch.configure(\n",
    "    batch_size=50,\n",
    "    dynamic=True,\n",
    "    timeout_retries=3,\n",
    ")"
   ]
  },
  {
   "cell_type": "code",
   "execution_count": 4,
   "id": "dddbc43d-fb96-45f2-9010-b2b2a6046bf6",
   "metadata": {
    "tags": []
   },
   "outputs": [],
   "source": [
    "from langchain.docstore.document import Document\n",
    "from langchain.text_splitter import MarkdownHeaderTextSplitter, RecursiveCharacterTextSplitter\n",
    "from pathlib import Path\n",
    "\n",
    "chunk_size = 300\n",
    "chunk_overlap = 50\n",
    "\n",
    "input_directory = Path('./data/help')\n",
    "\n",
    "with client.batch as batch:\n",
    "    # Iterate through the files in the directory and its subdirectories\n",
    "    for root, dirs, files in os.walk(input_directory):\n",
    "        for file_name in files:\n",
    "            # Check if the file is a markdown file\n",
    "            if file_name.endswith('.md'):\n",
    "                file_path = os.path.join(root, file_name)\n",
    "\n",
    "                # Read the file content\n",
    "                with open(file_path, \"r\", encoding=\"utf-8\") as file:\n",
    "                    file_content = file.read()\n",
    "\n",
    "                    # Then we chunk up the rest (in an intelligent way context aware)\n",
    "                    # https://python.langchain.com/docs/use_cases/question_answering/how_to/document-context-aware-QA\n",
    "                    headers_to_split_on = [\n",
    "                        (\"#\", \"Title\"),\n",
    "                        (\"##\", \"Category\"),\n",
    "                        (\"###\", \"Section\"),\n",
    "                    ]\n",
    "                    markdown_splitter = MarkdownHeaderTextSplitter(headers_to_split_on=headers_to_split_on)\n",
    "                    md_header_splits = markdown_splitter.split_text(file_content)\n",
    "\n",
    "                    text_splitter = RecursiveCharacterTextSplitter(\n",
    "                        chunk_size=chunk_size, chunk_overlap=chunk_overlap\n",
    "                    )\n",
    "                    splits = text_splitter.split_documents(md_header_splits)\n",
    "\n",
    "                    lines = file_content.split(\"\\n\")\n",
    "                    title = lines[0][2:].strip()\n",
    "                    category = lines[1][13:].strip()\n",
    "                    slug = file_name.split(\".\")[0]\n",
    "                    # title = splits[0].metadata[\"Title\"]\n",
    "                    # category = splits[0].metadata[\"Category\"][10:]\n",
    "                    # prepend = f\"# {title}\\n## {category}\\n\"\n",
    "\n",
    "                    properties = dict(\n",
    "                        text=file_content,\n",
    "                        title=title,\n",
    "                        category=category,\n",
    "                        slug=slug\n",
    "                    )\n",
    "                    batch.add_data_object(properties, \"Help\")\n",
    "                    for split in splits:\n",
    "                        text = split.page_content\n",
    "                        properties = dict(\n",
    "                            text=text,\n",
    "                            title=title,\n",
    "                            category=category,\n",
    "                            slug=slug\n",
    "                        )\n",
    "                        batch.add_data_object(properties, \"Help\")"
   ]
  },
  {
   "cell_type": "code",
   "execution_count": null,
   "id": "7b86ff99-2dad-4fc7-b083-790485e74659",
   "metadata": {
    "tags": []
   },
   "outputs": [],
   "source": [
    "len(data_object)"
   ]
  },
  {
   "cell_type": "code",
   "execution_count": 47,
   "id": "e70cf0f2-1075-4b89-a85d-61922f489406",
   "metadata": {
    "tags": []
   },
   "outputs": [
    {
     "data": {
      "text/plain": [
       "{'text': 'using the Write Off process. See Transaction Sheet Asset Input for AR and Inventory Write Off inputs.',\n",
       " 'title': '# Cash-Beginning Working Capital',\n",
       " 'category': 'Cash',\n",
       " 'slug': 'Cash_CashBeginningWorkingCapital'}"
      ]
     },
     "execution_count": 47,
     "metadata": {},
     "output_type": "execute_result"
    }
   ],
   "source": [
    "data_object[135]"
   ]
  },
  {
   "cell_type": "code",
   "execution_count": 62,
   "id": "c47c0e2c-7e67-4967-a8a1-1258e07632c3",
   "metadata": {
    "tags": []
   },
   "outputs": [
    {
     "data": {
      "text/plain": [
       "'Exit Strategy'"
      ]
     },
     "execution_count": 62,
     "metadata": {},
     "output_type": "execute_result"
    }
   ],
   "source": [
    "category"
   ]
  }
 ],
 "metadata": {
  "kernelspec": {
   "display_name": "Python 3 (ipykernel)",
   "language": "python",
   "name": "python3"
  },
  "language_info": {
   "codemirror_mode": {
    "name": "ipython",
    "version": 3
   },
   "file_extension": ".py",
   "mimetype": "text/x-python",
   "name": "python",
   "nbconvert_exporter": "python",
   "pygments_lexer": "ipython3",
   "version": "3.9.13"
  }
 },
 "nbformat": 4,
 "nbformat_minor": 5
}
