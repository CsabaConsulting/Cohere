{
 "cells": [
  {
   "cell_type": "code",
   "execution_count": 1,
   "id": "e4e90e5d-06e6-4ee8-bfdc-f1d24fd27873",
   "metadata": {},
   "outputs": [
    {
     "data": {
      "text/plain": [
       "True"
      ]
     },
     "execution_count": 1,
     "metadata": {},
     "output_type": "execute_result"
    }
   ],
   "source": [
    "import os\n",
    "import weaviate\n",
    "\n",
    "weaviate_api_key = os.getenv(\"weaviate_api_key\") or \"weaviate_api_key\"\n",
    "weaviate_url = os.getenv(\"weaviate_url\") or \"weaviate_url\"\n",
    "cohere_api_key = os.getenv(\"COHERE_API_KEY\") or \"COHERE_API_KEY\"\n",
    "\n",
    "auth_config = weaviate.AuthApiKey(api_key=weaviate_api_key)\n",
    "\n",
    "client = weaviate.Client(\n",
    "  url=weaviate_url,\n",
    "  auth_client_secret=auth_config,\n",
    "  additional_headers={\"X-Cohere-Api-Key\": cohere_api_key}\n",
    ")\n",
    "client.is_ready()"
   ]
  },
  {
   "cell_type": "code",
   "execution_count": 4,
   "id": "3f8b367d-3c79-40cb-826e-d0c08c1f4660",
   "metadata": {
    "tags": []
   },
   "outputs": [],
   "source": [
    "from langchain.embeddings import CohereEmbeddings\n",
    "from langchain.vectorstores import Weaviate\n",
    "\n",
    "index_name = \"Help\"\n",
    "text_key = \"text\"\n",
    "vectorstore = Weaviate(client, index_name, text_key)\n",
    "vectorstore._query_attrs = [\"text\", \"title\", \"category\", \"slug\", \"_additional {distance}\"]\n",
    "vectorstore.embedding = CohereEmbeddings(model=\"embed-english-v2.0\", cohere_api_key=cohere_api_key)"
   ]
  },
  {
   "cell_type": "code",
   "execution_count": 8,
   "id": "4107bf1c-74f7-4f5d-83c6-f5a32140dcd0",
   "metadata": {
    "tags": []
   },
   "outputs": [
    {
     "data": {
      "text/plain": [
       "[Document(page_content='Question: How many different types, categories, or groups can the User list for both A/R and Inventory?\\nAnswer: The User can list up to four different types, categories, or groups for both Accounts Receivable (A/R) and Inventory.', metadata={'_additional': {'distance': 0.5666206}, 'category': 'Assets', 'slug': 'Assets_AssetInputs', 'title': 'Asset Inputs'}),\n",
       " Document(page_content='# Inventory\\n## Category: Inventory\\nInventory is unused material and supplies used to create finished product as well as unsold finished product.\\nInventory includes Work in Process which will include allocated manufacturing labor as well as the direct materials and supplies of unfinished Finished Product.\\nUnsold completed Finished Product Inventory includes allocated direct manufacturing labor as well as the direct materials and supplies.\\nCash paid to create inventory (see Inventory - Future Terms Set-up) or User capitalized expenses (see Info Browser - Individually Scheduled Income/Expense, Capitalized Expenses) is counted as an Inventory Asset and not counted as an Expense in either the ThruThink Accrual or Cash Basis method of accounting (see Info Browser - Tax Rates). Therefore when the User chooses the ThruThink Cash Basis for calculation of income taxes, cash paid for inventory will not be counted as an expense for income tax purposes.\\n### Inventory Replenish\\nWhen Inventory is written off, including the Initial Inventory at the time of Company acquisition, the User can specify how much should be replenished the next year and how many weeks it should take to replenish.\\nThe Year 0 Inputs pertain to the Initial Inventory write off at the time of Company Acquisition (See Asset Input page).\\nFor the Weeks to replenish, enter a whole number between 0 and 52. Specific calculations only are made for years 1-3. Week to Week calculations are only made for Years 1-3.\\nThe Inventory replenish amount is in addition to the normal amount of inventory being generated for the current year sales therefore there it causes a greater demand on cash flow. The greater amount to replenish and the shorter time desired, the greater impact on cash flow requirements.\\n### COGS to be Inventoried\\nGenerally when a product is manufactured or purchased for resale, the cost of the item will be put into inventory as an asset. When the item is then sold,  or combined with other items and sold, the cost of the item(s) will be taken out of inventory and expensed as a part of Cost of Goods Sold (COGS).\\nThe total COGS for the item sold however will also contain other costs that are incurred at the time of sale such as packaging, shipping etc. The percent of COGS to be inventoried therefore is the percent of the total COGS that are expenses purchased for inventory to be used at a later date.\\n', metadata={'_additional': {'distance': 0.57214534}, 'category': 'Inventory', 'slug': 'Inventory_Inventory', 'title': 'Inventory'}),\n",
       " Document(page_content='Question: How many different types, categories, or groups can the User identify for both A/R and Inventory?\\nAnswer: Based on the given text, the User can identify up to four different types, categories, or groups for both A/R and Inventory.', metadata={'_additional': {'distance': 0.57755905}, 'category': 'Assets', 'slug': 'Assets_AssetInputs', 'title': 'Asset Inputs'}),\n",
       " Document(page_content='# Inventory\\n## Category: Assets\\nInventory is unused material and supplies used to create finished product as well as unsold finished product.\\nInventory includes Work in Process which will include allocated manufacturing labor as well as the direct materials and supplies of unfinished Finished Product.\\nUnsold completed Finished Product Inventory includes allocated direct manufacturing labor as well as the direct materials and supplies.\\nCash paid to create inventory (see Inventory - Future Terms Set-up) or User capitalized expenses (see Info Browser - Individually Scheduled Income/Expense, Capitalized Expenses) is counted as an Inventory Asset and not counted as an Expense in either the ThruThink Accrual or Cash Basis method of accounting (see Info Browser - Tax Rates). Therefore when the User chooses the ThruThink Cash Basis for calculation of income taxes, cash paid for inventory will not be counted as an expense for income tax purposes.\\n### Inventory Replenish\\nWhen Inventory is written off, including the Initial Inventory at the time of Company acquisition, the User can specify how much should be replenished the next year and how many weeks it should take to replenish.\\nThe Year 0 Inputs pertain to the Initial Inventory write off at the time of Company Acquisition (See Asset Input page).\\nFor the Weeks to replenish, enter a whole number between 0 and 52. Specific calculations only are made for years 1-3. Week to Week calculations are only made for Years 1-3.\\nThe Inventory replenish amount is in addition to the normal amount of inventory being generated for the current year sales therefore there it causes a greater demand on cash flow. The greater amount to replenish and the shorter time desired, the greater impact on cash flow requirements.\\n### COGS to be Inventoried\\nGenerally when a product is manufactured or purchased for resale, the cost of the item will be put into inventory as an asset. When the item is then sold,  or combined with other items and sold, the cost of the item(s) will be taken out of inventory and expensed as a part of Cost of Goods Sold (COGS).\\nThe total COGS for the item sold however will also contain other costs that are incurred at the time of sale such as packaging, shipping etc. The percent of COGS to be inventoried therefore is the percent of the total COGS that are expenses purchased for inventory to be used at a later date.\\n', metadata={'_additional': {'distance': 0.5807471}, 'category': 'Assets', 'slug': 'Assets_Inventory', 'title': 'Inventory'}),\n",
       " Document(page_content='Question: What is Inventory in the context of ThruThink?\\nAnswer: In the context of ThruThink, Inventory refers to unused material and supplies used to create finished product as well as unsold finished product. It includes Work in Process, which consists of allocated manufacturing labor and direct materials and supplies of unfinished Finished Product. Additionally, unsold completed Finished Product Inventory includes allocated direct manufacturing labor and direct materials and supplies. Cash paid to create inventory or User capitalized expenses are counted as an Inventory Asset and not counted as an Expense in either the ThruThink Accrual or Cash Basis method of accounting. When the User chooses the ThruThink Cash Basis for calculation of income taxes, cash paid for inventory will not be counted as an expense for income tax purposes. The Inventory replenish amount can be specified by the User for the next year and the number of weeks it should take to replenish. The Inventory replenish amount is in addition to the normal amount of inventory being generated for the current year sales, and it causes a greater demand on cash flow. The greater amount to replenish and the shorter time desired will have a greater impact on cash flow requirements.', metadata={'_additional': {'distance': 0.60714066}, 'category': 'Inventory', 'slug': 'Inventory_Inventory', 'title': 'Inventory'})]"
      ]
     },
     "execution_count": 8,
     "metadata": {},
     "output_type": "execute_result"
    }
   ],
   "source": [
    "query = \"How much inventory should I have?\"\n",
    "vectorstore.similarity_search_by_text(query, k=5)"
   ]
  },
  {
   "cell_type": "code",
   "execution_count": 9,
   "id": "4c969c65-445f-4339-9b32-6748f1108fde",
   "metadata": {
    "tags": []
   },
   "outputs": [
    {
     "data": {
      "text/plain": [
       "[Document(page_content='Question: How many different types, categories, or groups can the User list for both A/R and Inventory?\\nAnswer: The User can list up to four different types, categories, or groups for both Accounts Receivable (A/R) and Inventory.', metadata={'_additional': {'distance': 0.5666206}, 'category': 'Assets', 'slug': 'Assets_AssetInputs', 'title': 'Asset Inputs'}),\n",
       " Document(page_content='# Inventory\\n## Category: Inventory\\nInventory is unused material and supplies used to create finished product as well as unsold finished product.\\nInventory includes Work in Process which will include allocated manufacturing labor as well as the direct materials and supplies of unfinished Finished Product.\\nUnsold completed Finished Product Inventory includes allocated direct manufacturing labor as well as the direct materials and supplies.\\nCash paid to create inventory (see Inventory - Future Terms Set-up) or User capitalized expenses (see Info Browser - Individually Scheduled Income/Expense, Capitalized Expenses) is counted as an Inventory Asset and not counted as an Expense in either the ThruThink Accrual or Cash Basis method of accounting (see Info Browser - Tax Rates). Therefore when the User chooses the ThruThink Cash Basis for calculation of income taxes, cash paid for inventory will not be counted as an expense for income tax purposes.\\n### Inventory Replenish\\nWhen Inventory is written off, including the Initial Inventory at the time of Company acquisition, the User can specify how much should be replenished the next year and how many weeks it should take to replenish.\\nThe Year 0 Inputs pertain to the Initial Inventory write off at the time of Company Acquisition (See Asset Input page).\\nFor the Weeks to replenish, enter a whole number between 0 and 52. Specific calculations only are made for years 1-3. Week to Week calculations are only made for Years 1-3.\\nThe Inventory replenish amount is in addition to the normal amount of inventory being generated for the current year sales therefore there it causes a greater demand on cash flow. The greater amount to replenish and the shorter time desired, the greater impact on cash flow requirements.\\n### COGS to be Inventoried\\nGenerally when a product is manufactured or purchased for resale, the cost of the item will be put into inventory as an asset. When the item is then sold,  or combined with other items and sold, the cost of the item(s) will be taken out of inventory and expensed as a part of Cost of Goods Sold (COGS).\\nThe total COGS for the item sold however will also contain other costs that are incurred at the time of sale such as packaging, shipping etc. The percent of COGS to be inventoried therefore is the percent of the total COGS that are expenses purchased for inventory to be used at a later date.\\n', metadata={'_additional': {'distance': 0.57214534}, 'category': 'Inventory', 'slug': 'Inventory_Inventory', 'title': 'Inventory'}),\n",
       " Document(page_content='Question: How many different types, categories, or groups can the User identify for both A/R and Inventory?\\nAnswer: Based on the given text, the User can identify up to four different types, categories, or groups for both A/R and Inventory.', metadata={'_additional': {'distance': 0.57755905}, 'category': 'Assets', 'slug': 'Assets_AssetInputs', 'title': 'Asset Inputs'}),\n",
       " Document(page_content='# Inventory\\n## Category: Assets\\nInventory is unused material and supplies used to create finished product as well as unsold finished product.\\nInventory includes Work in Process which will include allocated manufacturing labor as well as the direct materials and supplies of unfinished Finished Product.\\nUnsold completed Finished Product Inventory includes allocated direct manufacturing labor as well as the direct materials and supplies.\\nCash paid to create inventory (see Inventory - Future Terms Set-up) or User capitalized expenses (see Info Browser - Individually Scheduled Income/Expense, Capitalized Expenses) is counted as an Inventory Asset and not counted as an Expense in either the ThruThink Accrual or Cash Basis method of accounting (see Info Browser - Tax Rates). Therefore when the User chooses the ThruThink Cash Basis for calculation of income taxes, cash paid for inventory will not be counted as an expense for income tax purposes.\\n### Inventory Replenish\\nWhen Inventory is written off, including the Initial Inventory at the time of Company acquisition, the User can specify how much should be replenished the next year and how many weeks it should take to replenish.\\nThe Year 0 Inputs pertain to the Initial Inventory write off at the time of Company Acquisition (See Asset Input page).\\nFor the Weeks to replenish, enter a whole number between 0 and 52. Specific calculations only are made for years 1-3. Week to Week calculations are only made for Years 1-3.\\nThe Inventory replenish amount is in addition to the normal amount of inventory being generated for the current year sales therefore there it causes a greater demand on cash flow. The greater amount to replenish and the shorter time desired, the greater impact on cash flow requirements.\\n### COGS to be Inventoried\\nGenerally when a product is manufactured or purchased for resale, the cost of the item will be put into inventory as an asset. When the item is then sold,  or combined with other items and sold, the cost of the item(s) will be taken out of inventory and expensed as a part of Cost of Goods Sold (COGS).\\nThe total COGS for the item sold however will also contain other costs that are incurred at the time of sale such as packaging, shipping etc. The percent of COGS to be inventoried therefore is the percent of the total COGS that are expenses purchased for inventory to be used at a later date.\\n', metadata={'_additional': {'distance': 0.5807471}, 'category': 'Assets', 'slug': 'Assets_Inventory', 'title': 'Inventory'}),\n",
       " Document(page_content='Question: What is Inventory in the context of ThruThink?\\nAnswer: In the context of ThruThink, Inventory refers to unused material and supplies used to create finished product as well as unsold finished product. It includes Work in Process, which consists of allocated manufacturing labor and direct materials and supplies of unfinished Finished Product. Additionally, unsold completed Finished Product Inventory includes allocated direct manufacturing labor and direct materials and supplies. Cash paid to create inventory or User capitalized expenses are counted as an Inventory Asset and not counted as an Expense in either the ThruThink Accrual or Cash Basis method of accounting. When the User chooses the ThruThink Cash Basis for calculation of income taxes, cash paid for inventory will not be counted as an expense for income tax purposes. The Inventory replenish amount can be specified by the User for the next year and the number of weeks it should take to replenish. The Inventory replenish amount is in addition to the normal amount of inventory being generated for the current year sales, and it causes a greater demand on cash flow. The greater amount to replenish and the shorter time desired will have a greater impact on cash flow requirements.', metadata={'_additional': {'distance': 0.60714066}, 'category': 'Inventory', 'slug': 'Inventory_Inventory', 'title': 'Inventory'}),\n",
       " Document(page_content='Question: What is the definition of \"Inventory Weeks to Hold\"?\\nAnswer: Inventory Weeks to Hold refers to the average amount of time that inventory will be held for use. It represents the duration over which inventory will be available and ready for consumption. This metric is used to determine the amount of inventory that should be maintained in stock at any given time. The Weeks to Hold value is typically evenly distributed over the specified time period. \\n\\nThe concept of Inventory Weeks to Hold is applicable to the Beginning Inventory balances. After this initial period, the input for Future Ave Weeks to Hold will be used for the subsequent Horizon Years. If no selection is made for future years, the default value will be the same as the initial input on the Transaction Sheet. If the Weeks to Hold value is left blank or set to 0, it indicates that no inventory will be held for use during that time.\\n\\nIn the case of an Existing Company purchasing a Target Company, a weighted average calculation is performed for Year 1. This calculation considers the Weeks to Hold values listed on the Transaction Sheet for both the Target Company and the initial input for the Existing Company. For subsequent years, the Ave Weeks to Hold values specified in the Future Input will be used without any weighted average calculation. If no selection is indicated in the Transaction Sheet, the initial input for the Existing Company will be used for future years.\\n\\nThe Inventory Weeks to Hold input can be found in the Inventory Set Up pages for the Transaction Sheet and the Existing Company Inventory Beginning Balances. It should be entered as a whole number, representing the number of weeks, and not as a fraction or portion of a week.', metadata={'_additional': {'distance': 0.6072436}, 'category': 'Inventory', 'slug': 'Inventory_InventoryWeekstoHold', 'title': 'Inventory Weeks to Hold'}),\n",
       " Document(page_content='Question: What is the purpose of the \"Inventory Weeks to Hold\" category?\\nAnswer: The purpose of the \"Inventory Weeks to Hold\" category is to determine the average time period for which inventory will be held for use. It is used to calculate the amount of inventory that should be kept on hand, taking into account factors such as production or purchase lead times and sales cycles. The input for \"Inventory Weeks to Hold\" is used to calculate the inventory levels for the beginning inventory balances. For future years, the input for \"Future Ave Weeks to Hold\" is used, unless specified otherwise in the transaction sheet. If no selection is made, a default value of 0 will be used, indicating that no inventory will be held for use.', metadata={'_additional': {'distance': 0.6086641}, 'category': 'Assets', 'slug': 'Assets_InventoryWeekstoHold', 'title': 'Inventory Weeks to Hold'}),\n",
       " Document(page_content='# Inventory Weeks to Hold\\n## Category: Inventory\\n### Beginning Inventory\\nThis is the average time over which the Inventory will be held for use. Use will be evenly over this time. This will apply to Beginning Inventory balances only, after which, the input for Future Ave Weeks to Hold will be used for the Horizon Years. If there is no selection for the future years, the default for future years will be the selection indicated for the initial inputs on the Transaction Sheet. If this is left blank, 0 will be used and no inventory will be held for use.\\nIf the Existing Company is purchasing the Target Company, for Year 1, a weighted average will be calculated between the Weeks to Hold listed on the Transaction Sheet for the Target Company and the Weeks to Hold listed for the initial input for the Existing Company. For Years after Year 1, the selections in the Ave Weeks to Hold in the Future Input will be used with no weighted average calculation. If there is no selection indicated in the Transaction Sheet, the initial input for the Existing Company will be used for future years.\\nThis Input is found in the Inventory Set Up pages for the Transaction Sheet and the Existing Company Inventory Beginning Balances.\\n### Inventory Future Weeks to Hold\\nThis will apply for future Horizon Period years selected by the User.\\nWeeks to Hold are the number of weeks on average that will be Inventory is required to be kept on hand (not used).\\nFor example, with Inventory, if cash is used to manufacture or purchase Inventory and is sold 30-60 days later, then the Weeks to Hold should be 6.\\nThis input is found in the Inventory  - Future Terms Set-Up  Input page\\nThe Input should be a whole number and not a portion of a week.\\n', metadata={'_additional': {'distance': 0.61201227}, 'category': 'Inventory', 'slug': 'Inventory_InventoryWeekstoHold', 'title': 'Inventory Weeks to Hold'}),\n",
       " Document(page_content='Question: What is the purpose of entering inventory amounts on this page?\\nAnswer: The purpose of entering inventory amounts on this page is to record the beginning inventory for the end of the period just prior to Year 1 (the Effective Date). By entering the monthly information, it will indicate when the beginning inventory is to be used during Year 1. The inventory amounts entered will feed to either the Transaction Sheet or the Existing Company financial information, depending on the \"Show On\" selection, as the beginning inventory as of the Effective Date. Additionally, for every entry made on this page, the user must also enter the Sale Value of the inventory being used, which represents the value at which the inventory will be sold. The Sale Value entries on this page will flow to the Individually Scheduled Section D Income.', metadata={'_additional': {'distance': 0.61958194}, 'category': 'Assets', 'slug': 'Assets_IndividuallyScheduledSectionBInventoryYear1Input', 'title': 'Individually Scheduled Section B Inventory Year 1 Input'}),\n",
       " Document(page_content='Question: What is included in inventory?\\nAnswer: Inventory includes unused material and supplies used to create finished products, as well as unsold finished products. It also includes work in process, which consists of allocated manufacturing labor, direct materials, and supplies of unfinished finished products. Unsold completed finished product inventory includes allocated direct manufacturing labor, as well as direct materials and supplies. Cash paid to create inventory or user capitalized expenses are counted as inventory assets and not as expenses in the accounting methods.', metadata={'_additional': {'distance': 0.6197329}, 'category': 'Inventory', 'slug': 'Inventory_Inventory', 'title': 'Inventory'})]"
      ]
     },
     "execution_count": 9,
     "metadata": {},
     "output_type": "execute_result"
    }
   ],
   "source": [
    "vectorstore.similarity_search(query, k=10)"
   ]
  },
  {
   "cell_type": "code",
   "execution_count": 2,
   "id": "cb5051e7-7c0e-409c-a39f-9021b46291ed",
   "metadata": {
    "tags": []
   },
   "outputs": [],
   "source": [
    "from langchain.llms import Cohere\n",
    "\n",
    "llm = Cohere(model=\"d2cd24fd-67fd-4610-ab84-a37f9e635313-ft\")"
   ]
  },
  {
   "cell_type": "code",
   "execution_count": 3,
   "id": "61b7590a-2424-4ef7-bb82-68371c1076d6",
   "metadata": {
    "tags": []
   },
   "outputs": [],
   "source": [
    "from langchain.prompts.chat import (\n",
    "    ChatPromptTemplate,\n",
    "    SystemMessagePromptTemplate,\n",
    "    HumanMessagePromptTemplate,\n",
    ")\n",
    "\n",
    "prompt_template=\"\"\"You are an assistant specialized in ThruThink budgeting analysis and projection web application usage.\n",
    "You are also knowledgeable in a wide range of budgeting and accounting topics, including EBITDA, cash flow balance, inventory management, and more.\n",
    "While you strive to provide accurate information and assistance, please keep in mind that you are not a licensed investment advisor, financial advisor, or tax advisor.\n",
    "Therefore, you cannot provide personalized investment advice, financial planning, or tax guidance.\n",
    "You are here to offer general information, answer your questions, and assist with ThruThink-related inquiries to the best of your knowledge.\n",
    "If you don't know the answer, just say that \"I don't know\", don't try to make up an answer.\n",
    "----------------\n",
    "{summaries}\"\"\"\n",
    "\n",
    "messages = [\n",
    "    SystemMessagePromptTemplate.from_template(prompt_template),\n",
    "    HumanMessagePromptTemplate.from_template(\"{question}\")\n",
    "]\n",
    "prompt = ChatPromptTemplate.from_messages(messages)"
   ]
  },
  {
   "cell_type": "code",
   "execution_count": 4,
   "id": "e64230c4-10c5-4853-bd03-aea57117d911",
   "metadata": {
    "tags": []
   },
   "outputs": [],
   "source": [
    "from operator import itemgetter\n",
    "from langchain.schema.output_parser import StrOutputParser\n",
    "\n",
    "chain = (\n",
    "    {\n",
    "        \"summaries\": itemgetter(\"summaries\"),\n",
    "        \"question\": itemgetter(\"question\")\n",
    "    }\n",
    "    | prompt\n",
    "    | llm\n",
    "    | StrOutputParser()\n",
    ")"
   ]
  },
  {
   "cell_type": "code",
   "execution_count": 6,
   "id": "d7282827-1790-4d01-b500-91c4262e5245",
   "metadata": {
    "tags": []
   },
   "outputs": [
    {
     "data": {
      "text/plain": [
       "\" It depends on the product and the company. Generally, a small percentage of inventory is needed for financial reporting purposes, but the specific percentage should be determined by the company's inventory management needs and the level of inventory desired. It is important to consider the specific inventory needs of the company and the level of inventory desired when determining the appropriate inventory percentage.\""
      ]
     },
     "execution_count": 6,
     "metadata": {},
     "output_type": "execute_result"
    }
   ],
   "source": [
    "query = \"How much inventory should I have?\"\n",
    "chain.invoke({\"question\": query, \"summaries\": \"\"})"
   ]
  },
  {
   "cell_type": "code",
   "execution_count": 7,
   "id": "afdde5ff-db35-4ead-874a-a7e2001c78ff",
   "metadata": {},
   "outputs": [],
   "source": [
    "import cohere\n",
    "co = cohere.Client(cohere_api_key)"
   ]
  },
  {
   "cell_type": "code",
   "execution_count": 9,
   "id": "16f8069f-692e-44af-9f43-35ab9c0e631f",
   "metadata": {
    "tags": []
   },
   "outputs": [],
   "source": [
    "system_prompt = \"\"\"You are an assistant specialized in ThruThink budgeting analysis and projection web application usage.\n",
    "You are also knowledgeable in a wide range of budgeting and accounting topics, including EBITDA, cash flow balance, inventory management, and more.\n",
    "While you strive to provide accurate information and assistance, please keep in mind that you are not a licensed investment advisor, financial advisor, or tax advisor.\n",
    "Therefore, you cannot provide personalized investment advice, financial planning, or tax guidance.\n",
    "You are here to offer general information, answer your questions, and assist with ThruThink-related inquiries to the best of your knowledge.\n",
    "If you don't know the answer, just say that \"I don't know\", don't try to make up an answer.\"\"\"\n",
    "\n",
    "response = co.chat(\n",
    "    message=query,\n",
    "    prompt_truncation='auto',\n",
    "    connectors=[{\"id\": \"web-search\"}],\n",
    "    preamble_override=system_prompt\n",
    ")"
   ]
  },
  {
   "cell_type": "code",
   "execution_count": 10,
   "id": "cb3f3363-6d93-428a-970a-95f3def2a8ff",
   "metadata": {
    "tags": []
   },
   "outputs": [
    {
     "data": {
      "text/plain": [
       "cohere.Chat {\n",
       "\tid: 14039cb7-ef0b-43fa-896d-bc3bad5b8929\n",
       "\tresponse_id: 14039cb7-ef0b-43fa-896d-bc3bad5b8929\n",
       "\tgeneration_id: aca1c93c-0baf-4708-a22f-9f8565cc902f\n",
       "\tmessage: How much inventory should I have?\n",
       "\ttext: Businesses should always hold enough stock to meet unexpected spikes in consumer demand but not too much to cause overstock issues. The amount of inventory a business should hold depends on various factors such as customer demand, lead time to process orders, holding costs, and order costs. \n",
       "\n",
       "For example, if a business has a lead time of four weeks to process customer orders and their customers place orders for 100 pieces of a product twice a week, they should have enough inventory to cover 200 pieces to account for the lead time and expected orders. \n",
       "\n",
       "Additionally, businesses may choose to hold more inventory during peak seasons or periods, such as summer or holidays like Christmas, to account for increased customer demand. \n",
       "\n",
       "It's important to note that the appropriate inventory level can vary widely depending on the specific business and industry, and it may be helpful to consult with an expert or conduct a thorough analysis of the business's unique circumstances to determine the optimal inventory level. \n",
       "\n",
       "Is there anything specific you would like to know regarding inventory management or related topics?\n",
       "\tconversation_id: None\n",
       "\tprompt: None\n",
       "\tchat_history: None\n",
       "\tpreamble: None\n",
       "\tclient: <cohere.client.Client object at 0x7f2b4c4e9940>\n",
       "\ttoken_count: {'prompt_tokens': 1479, 'response_tokens': 207, 'total_tokens': 1686, 'billed_tokens': 363}\n",
       "\tmeta: {'api_version': {'version': '1'}}\n",
       "\tis_search_required: None\n",
       "\tcitations: [{'start': 51, 'end': 87, 'text': 'unexpected spikes in consumer demand', 'document_ids': ['web-search_3:3']}, {'start': 114, 'end': 131, 'text': 'overstock issues.', 'document_ids': ['web-search_3:3']}, {'start': 214, 'end': 229, 'text': 'customer demand', 'document_ids': ['web-search_2:8']}, {'start': 231, 'end': 258, 'text': 'lead time to process orders', 'document_ids': ['web-search_2:8']}, {'start': 260, 'end': 273, 'text': 'holding costs', 'document_ids': ['web-search_1:7']}, {'start': 279, 'end': 291, 'text': 'order costs.', 'document_ids': ['web-search_1:7']}, {'start': 327, 'end': 377, 'text': 'lead time of four weeks to process customer orders', 'document_ids': ['web-search_2:8']}, {'start': 388, 'end': 451, 'text': 'customers place orders for 100 pieces of a product twice a week', 'document_ids': ['web-search_2:8']}, {'start': 490, 'end': 506, 'text': 'cover 200 pieces', 'document_ids': ['web-search_2:8']}, {'start': 625, 'end': 691, 'text': 'peak seasons or periods, such as summer or holidays like Christmas', 'document_ids': ['web-search_3:3']}]\n",
       "\tdocuments: [{'id': 'web-search_3:3', 'snippet': '\\n\\nBusinesses should always hold enough stock to be able to meet unexpected spikes in consumer demand, but not so much that an overstock issue arises. Navigating this fine line between ‘just enough’ and ‘too much’ is an ongoing challenge process that managers struggle to overcome year in and year out.\\n\\nA good stock control software system, that keeps track of inventory in real-time, is a must for businesses seeking to ensure that their inventory levels are up to the task of meeting unanticipated surges in demand.\\n\\nA time to buy and a time to buy more inventory\\n\\nTypically, most seasonally affected businesses will choose to hold more inventory during peak seasons or event periods – such as during summer or for Christmas, Halloween or Valentine’s day.', 'title': 'Four very good reasons to hold inventory - Unleashed Software', 'url': 'https://www.unleashedsoftware.com/blog/four-very-good-reasons-hold-inventory'}, {'id': 'web-search_2:8', 'snippet': ' If your internal lead time to process 100 pieces is a week and your customer orders 100 pieces of your product twice per week, you need to have enough inventory on hand to cover a week’s worth of customer demand (i.e. 200 pieces).\\n\\nWhen you order a product from your supplier, how long does it take for that product to reach your dock (or doorstep or offsite mailbox or wherever your small business receives deliveries)? There are two ways to know this:\\n\\nKeep track of your supplier’s performance.\\n\\nIf your supplier tells you they can deliver to you in four weeks but you’ve been keeping track of their performance and because of production issues, shipping delays, hang-ups at customs and other unexplained delays, you’ve really been receiving their deliveries in eight weeks, guess what?', 'title': 'How Much Inventory Should My Small Business Hold?', 'url': 'https://www.liveabout.com/how-much-inventory-should-your-small-business-hold-4145308'}, {'id': 'web-search_1:7', 'snippet': '\\n\\nWhereas, Mr “Bulk Buy” spends 40 minutes shopping (a bigger shop but only every 4 weeks), and also values his time at $60 dollars per hour. His total ordering cost is $40 for the whole shop, which, when spread across say 40 items purchased, is $1 for each bag of frozen vegetables.\\n\\nHolding costs are the costs to possess inventory. In business, this might include warehousing, lighting, heating, (or cooling and freezing), insurance, depreciation, damage, loss, administration staff to look after it, and probably several more. In the context of home grocery shopping, this means the cost of storing the frozen vegetables in the freezer in your home.', 'title': 'How Much Inventory Should a Business Buy / Hold? – Inventory Management - Rowtons Training', 'url': 'https://rowtonstraining.com/how-much-inventory-should-a-business-buy-hold-inventory-management/'}]\n",
       "\tsearch_results: [{'search_query': {'text': 'how much inventory should a business hold', 'generation_id': '15461de7-3073-468b-bcfa-19c10902ca97'}, 'document_ids': ['web-search_1:7', 'web-search_2:8', 'web-search_3:3'], 'connector': {'id': 'web-search'}}]\n",
       "\tsearch_queries: [{'text': 'how much inventory should a business hold', 'generation_id': '15461de7-3073-468b-bcfa-19c10902ca97'}]\n",
       "}"
      ]
     },
     "execution_count": 10,
     "metadata": {},
     "output_type": "execute_result"
    }
   ],
   "source": [
    "response"
   ]
  },
  {
   "cell_type": "code",
   "execution_count": 6,
   "id": "7f1dab66-d354-48e2-bfba-4901c0517600",
   "metadata": {
    "tags": []
   },
   "outputs": [
    {
     "name": "stdout",
     "output_type": "stream",
     "text": [
      "{\n",
      "  \"data\": {\n",
      "    \"Get\": {\n",
      "      \"Help\": [\n",
      "        {\n",
      "          \"_additional\": {\n",
      "            \"distance\": 0.5238858,\n",
      "            \"id\": \"04399f50-e09d-4d85-b45c-39887cbcbe3d\"\n",
      "          },\n",
      "          \"category\": \"ThruThink\",\n",
      "          \"text\": \"# Customer Assistance\\n## Category: ThruThink\\n\\nEmail: Support@ThruThink.com\\nCustomer Service Hours: Pacific Time\\nMailing Address: 6061 N. Fresno Street, Suite 106, Fresno, California, USA\\nEntity name: Business BrainScience, LLC\\n\",\n",
      "          \"title\": \"Customer Assistance\"\n",
      "        },\n",
      "        {\n",
      "          \"_additional\": {\n",
      "            \"distance\": 0.5318928,\n",
      "            \"id\": \"04cae26b-8413-4bcc-ae21-3e668dee6b4e\"\n",
      "          },\n",
      "          \"category\": \"Summary\",\n",
      "          \"text\": \"Question: What does the ThruThink analysis illustrate?\\nAnswer: The ThruThink analysis illustrates the projected performance of a business in conjunction with its debt and equity structure.\",\n",
      "          \"title\": \"Historical Worksheet - Before Beginning\"\n",
      "        },\n",
      "        {\n",
      "          \"_additional\": {\n",
      "            \"distance\": 0.5369103,\n",
      "            \"id\": \"c2fb52e3-8348-4387-90e5-6d930c2bd201\"\n",
      "          },\n",
      "          \"category\": \"Summary\",\n",
      "          \"text\": \"# ThruThink Deal Score and ThruThink Evaluation\\n## Category: Summary\\nThe *ThruThink Deal Score* is an optional User selection. It is turned off by default and must be turned on by the User in the Workflow menu, Step 7, by clicking the button for *ThruThink Evaluation* inputs and choosing \\\"Yes\\\".\\nThe *ThruThink Deal Score* provides an \\\"A\\\", \\\"B\\\", \\\"C\\\", \\\"D\\\" or \\\"F\\\" rating of the Deal with \\\"A\\\" being the highest rating. The rating evaluates the Deal or comparative benefit to the Owner as presented by the User Inputs. It is not necessarily a score for the quality of the Company itself. In other words, an excellent Company can receive a poor Deal Score and Evaluation because of improper capital structure, Owner Draws, etc.\\nThe *ThruThink Evaluation* is used by the *ThruThink Deal Score* however it is not affected by turning the *ThruThink Deal Score* on or off.\\n*ThruThink Deal Score and the ThruThink Evaluation are registered Service Marks with the United States Patent Office and are services that use proprietary processes of formulas, algorithms and measurements of business performance.*\\n**The ThruThink Deal Score and ThruThink Evaluation are expressed as opinion only and do not provide any representation, warranties or guarantees about the outcome of the Users business.**\\n### Risk Rating\\nThe Risk Rating uses a Modified Internal Rate of Return (See, Help Browser - MIRR, for definition) with Beginning Total Assets as the initial cash outlay with no debt used in the Deal. Projected EBITDA adjusted by cash flow impact of receivables, inventory and A/P along with an income tax estimate as well as annual equity draws or contributions. The Market Value of the deal or Company after a Long Term Capital Gain tax deduction, without the Liabilities of the Company at the end of the earlier of 10 years or the Horizon Years is used as the cash return at the end of the investment. If a Market Value is not provided by the User, a Hard Asset Value (w/o amortized assets such as goodwill) liquidation of the assets will be used instead.\\nThis is then factored by a Confidence factor based on the historical EBITDA. If there is limited historical information, the Confidence factor will be low which will substantially effect the Risk Rating. This is further factored by a comparison with the current yield of 10 Year United States Treasury Notes.\\nThe *ThruThink Evaluation* evaluates only the first 10 years of a deal and will use the Hard Asset liquidation value as the Exit Value at year 10, if there is not a Market Value available. The Exit Value may be entered for only the end of the Horizon time period, however for Horizon time periods over 10 years, for the *ThruThink Evaluation*, the User should be sure to at least enter an appropriate Exit Value for Year 10 as well as the end of the Horizon time period.\\n### Confidence Level\\nThe level of confidence is a *ThruThink* proprietary calculation on a scale of 1-100 (1 being low), that is given for the future  projections for EBITDA as they relate to historical EBITDA actual performance.\\nThe confidence in the future performance should always be taken into account when considering the IRR results. This is a measure of such confidence, however future performance can not always be predicted by historical activity.\\n### Cash Flow Characteristics\\nCash Flow Characteristics reflects Beginning Cash Balance and how steady or erratic the projected Cumulative Cash Balance is over the Horizon Years and if the Cumulative Cash Flow becomes negative within the Horizon Years (the scope is limited to the Horizon Years or 10 Years which ever is less). If the Cumulative Cash flow becomes negative indicating the Company runs out of money, there is an automatic negative score given for Cash Flow Characteristics. The measured Cash Flow is the final annual cash flow of the Company after Debt payments, Income Taxes, Capital Expenditures (Sales) and Owner Draws.\\n### Stability of Projections\\nThis reflects how representative is the first three years projection for EBITDA compared with the historic EBITDA performance. No historical performance will cause a zero score. A negative historical trend for EBITDA will detract from the score.\\n### EBITDA to Sales Ratio\\nThis reflects the historical EBITDA/Sales ratio, the current EBITDA Ratio and the ratio through the Year 3 projection with a factor for stability and consistency of the numbers. No historical data available will substantially reduce the EBITDA to Sales Ratio score (See Risk Rating).\\n### EBITDA to Debt Ratio\\nThis reflects the beginning EBITDA/Total Debt ratio. Generally, an EBITDA/Total Debt ratio of between 0 and 3 is considered Excellent to Good. Over 3 to 5 Good to Marginal and a ratio of 5 or over is considered Excessive and negative.\\n### EBIT to Total Assets\\nThis reflects earnings as a percent of total assets deployed. This is a good measure of putting the level of earnings in perspective with the amount of total assets involved.\\n### Working Capital\\nWorking Capital is the difference between Current Assets and Current Liabilities. Current Assets means all assets that are cash or will turn to cash within 12 months of the particular date being considered. Current Liabilities means all Debts that are due to be paid within 12 months of the date being considered. The Current Liabilities should include the Current Portion of Long Term Debt which is the portion of the long term debt that will be due in payments over the next 12 months.\\nThe score considers the Beginning Working Capital along with the Working Capital for year 1-3, however it places a greater weight on the Beginning Working Capital.\\n### Net Total Debt\\nNet Debt is used to consider leverage or the amount of debt in a Company or Deal. In the *ThruThink* analysis, Net Debt is Total Debt less Cash and Accounts Receivable. The effect of leverage or debt on a Company or Deal is expressed by the ratio of Net Debt to Earnings before Interest, Income Taxes, Depreciation and Amortization (EBITDA).\\n### Net Income\\nThis will reflect Net Income along with its variability and trend over the Horizon Years.\\n### Quality of Non Owner Management\\nThis is a direct input by the User. On a 1 to 10 basis (1 being no involvement), how independent is the Management of the Company from the Owner. How much technical, financial or operational involvement is materially or uniquely provided by the Owner. This should involve both compensated and Un-Compensated contribution of the Owner. This score should also reflect the overall capability of the Management separate from the Owner.\\n### Amount of Un-Compensated Owner Contribution\\nThis is a direct input by the User. On an annual basis, how much necessary and material involvement of the Owner is Un-Compensated. This should be only that contribution which would need to be replaced if the Owner were not there. The amount should be that amount that would be required for an outside party to provide similar contribution. The score reflects the amount of Un-Compensated Owner Contribution as compared with the Beginning EBITDA.\\n### Liquidity of the Business\\nThis is a direct input by the User and is an estimate for how many months it would take to sell the Company. Generally this can be from 5 to 36 months.\\n\",\n",
      "          \"title\": \"ThruThink Deal Score and ThruThink Evaluation\"\n",
      "        },\n",
      "        {\n",
      "          \"_additional\": {\n",
      "            \"distance\": 0.5565454,\n",
      "            \"id\": \"6b6b4d32-d817-4a1d-9bcd-9332a314a619\"\n",
      "          },\n",
      "          \"category\": \"ThruThink\",\n",
      "          \"text\": \"Question: What is the email address for customer support for ThruThink?\\nAnswer: The email address for customer support for ThruThink is Support@ThruThink.com.\",\n",
      "          \"title\": \"Customer Assistance\"\n",
      "        },\n",
      "        {\n",
      "          \"_additional\": {\n",
      "            \"distance\": 0.59476376,\n",
      "            \"id\": \"6a7674d3-7605-4820-9c79-2146e0723f8a\"\n",
      "          },\n",
      "          \"category\": \"Transaction Details\",\n",
      "          \"text\": \"Question: What is the Effective Date referred to as in the ThruThink analysis?\\nAnswer: The Effective Date is referred to as the \\\"Point of Reference\\\" in the ThruThink analysis.\",\n",
      "          \"title\": \"Effective Date\"\n",
      "        }\n",
      "      ]\n",
      "    }\n",
      "  }\n",
      "}\n"
     ]
    }
   ],
   "source": [
    "import json\n",
    "\n",
    "response = (\n",
    "    client.query\n",
    "    .get(\"Help\", [\"text\", \"title\", \"category\"])\n",
    "    .with_near_text({\n",
    "        \"concepts\": [\"What is ThruThink?\"]\n",
    "    })\n",
    "    .with_limit(5) # limit the output to only 2\n",
    "    .with_additional([\"distance\", \"id\"]).do()\n",
    ")\n",
    "\n",
    "print(json.dumps(response, indent=2))"
   ]
  }
 ],
 "metadata": {
  "kernelspec": {
   "display_name": "Python 3 (ipykernel)",
   "language": "python",
   "name": "python3"
  },
  "language_info": {
   "codemirror_mode": {
    "name": "ipython",
    "version": 3
   },
   "file_extension": ".py",
   "mimetype": "text/x-python",
   "name": "python",
   "nbconvert_exporter": "python",
   "pygments_lexer": "ipython3",
   "version": "3.9.13"
  }
 },
 "nbformat": 4,
 "nbformat_minor": 5
}
