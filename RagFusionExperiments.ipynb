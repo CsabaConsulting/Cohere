{
 "cells": [
  {
   "cell_type": "code",
   "execution_count": 1,
   "id": "11ee34c9-61be-4101-98d3-f147ca75ffcf",
   "metadata": {
    "tags": []
   },
   "outputs": [],
   "source": [
    "import os\n",
    "weaviate_api_key = os.getenv(\"weaviate_api_key\") or \"weaviate_api_key\"\n",
    "weaviate_url = os.getenv(\"weaviate_url\") or \"weaviate_url\"\n",
    "cohere_api_key = os.getenv(\"COHERE_API_KEY\") or \"COHERE_API_KEY\""
   ]
  },
  {
   "cell_type": "code",
   "execution_count": 2,
   "id": "263cadfc-29a7-4df1-bfe5-82e4ca0d4ad9",
   "metadata": {
    "tags": []
   },
   "outputs": [],
   "source": [
    "query = \"How much inventory should I have?\""
   ]
  },
  {
   "cell_type": "code",
   "execution_count": 7,
   "id": "01c36841-23b6-4b2f-a639-f71a68734a53",
   "metadata": {
    "tags": []
   },
   "outputs": [],
   "source": [
    "from langchain.llms import Cohere\n",
    "llm = Cohere(model=\"d2cd24fd-67fd-4610-ab84-a37f9e635313-ft\")"
   ]
  },
  {
   "cell_type": "code",
   "execution_count": 4,
   "id": "c21148a6-c778-47ed-9d09-09b1e767b846",
   "metadata": {
    "tags": []
   },
   "outputs": [],
   "source": [
    "system_prompt = \"\"\"You are an assistant specialized in ThruThink budgeting analysis and projection web application usage.\n",
    "You are also knowledgeable in a wide range of budgeting and accounting topics, including EBITDA, cash flow balance, inventory management, and more.\n",
    "While you strive to provide accurate information and assistance, please keep in mind that you are not a licensed investment advisor, financial advisor, or tax advisor.\n",
    "Therefore, you cannot provide personalized investment advice, financial planning, or tax guidance.\n",
    "You are here to offer general information, answer your questions, and assist with ThruThink-related inquiries to the best of your knowledge.\n",
    "If you don't know the answer, just say that \"I don't know\", don't try to make up an answer.\"\"\""
   ]
  },
  {
   "cell_type": "code",
   "execution_count": 26,
   "id": "2eed67b5-7f9b-4b9b-837d-a3ceae991c19",
   "metadata": {
    "tags": []
   },
   "outputs": [],
   "source": [
    "from langchain.prompts.chat import (\n",
    "    ChatPromptTemplate,\n",
    "    SystemMessagePromptTemplate,\n",
    "    HumanMessagePromptTemplate,\n",
    ")\n",
    "\n",
    "question_variation_prompt_template = \"\"\"Please generate {varc} variations of the following prompt. Each variation should be in one line. Be creative. Don't include any preamble or explanations, just the variations.\n",
    "Here is the prompt: {prompt}\n",
    "Variations:\"\"\"\n",
    "\n",
    "variation_prompt = ChatPromptTemplate.from_messages([\n",
    "    SystemMessagePromptTemplate.from_template(system_prompt),\n",
    "    HumanMessagePromptTemplate.from_template(question_variation_prompt_template)\n",
    "])"
   ]
  },
  {
   "cell_type": "code",
   "execution_count": 3,
   "id": "5b7a05d1-7b83-4768-8e82-f4d2a4af5477",
   "metadata": {
    "tags": []
   },
   "outputs": [],
   "source": [
    "varc = 4"
   ]
  },
  {
   "cell_type": "code",
   "execution_count": 17,
   "id": "2aa875da-a8bf-4b3d-8194-525d125e2168",
   "metadata": {},
   "outputs": [],
   "source": [
    "from langchain.prompts.chat import (\n",
    "    ChatPromptTemplate,\n",
    "    SystemMessagePromptTemplate,\n",
    "    HumanMessagePromptTemplate,\n",
    ")\n",
    "\n",
    "variation_system_prompt = \"\"\"You are a helpful assistant that generates multiple search queries based on a single input query.\n",
    "Each generated query should be in one line in a new line. Don't include any preamble, explanations, or don't answer the queries, just geenrate the queries.\"\"\"\n",
    "variation_user_command_prompt_template = \"Generate multiple search queries related to: {query}\"\n",
    "variation_user_example_prompt_template = \"Example output:\"\n",
    "for i in range(varc):\n",
    "    variation_user_example_prompt_template += f\" {i}. Query variation\"\n",
    "\n",
    "variation_user_output_prompt_template = \"OUTPUT ({varc} numbered queries):\"\n",
    "\n",
    "variation_prompt = ChatPromptTemplate.from_messages([\n",
    "    SystemMessagePromptTemplate.from_template(variation_system_prompt),\n",
    "    HumanMessagePromptTemplate.from_template(variation_user_command_prompt_template),\n",
    "    HumanMessagePromptTemplate.from_template(variation_user_example_prompt_template),\n",
    "    HumanMessagePromptTemplate.from_template(variation_user_output_prompt_template)\n",
    "])"
   ]
  },
  {
   "cell_type": "code",
   "execution_count": 20,
   "id": "fa49b744-fe79-4e0a-b901-28c1267ae19b",
   "metadata": {
    "tags": []
   },
   "outputs": [
    {
     "data": {
      "text/plain": [
       "[' 1. How much inventory should I have?',\n",
       " '2. How does inventory management software help with inventory management?',\n",
       " '3. How much inventory should I have at the end of the year?',\n",
       " '4. How much inventory should I have at the beginning of the year?']"
      ]
     },
     "execution_count": 20,
     "metadata": {},
     "output_type": "execute_result"
    }
   ],
   "source": [
    "query_variations.split(\"\\n\")[:varc]"
   ]
  },
  {
   "cell_type": "code",
   "execution_count": 29,
   "id": "a7e13402-f467-48ae-895b-812daf20c038",
   "metadata": {
    "tags": []
   },
   "outputs": [],
   "source": [
    "from langchain.prompts.chat import (\n",
    "    ChatPromptTemplate,\n",
    "    SystemMessagePromptTemplate,\n",
    "    HumanMessagePromptTemplate,\n",
    ")\n",
    "\n",
    "variation_system_prompt = \"\"\"Your task is to generate {varc} different search queries that aim to answer the user question from multiple perspectives.\n",
    "The user questions are focused on ThruThink budgeting analysis and projection web application usage, or a wide range of budgeting and accounting topics, including EBITDA, cash flow balance, inventory management, and more.\n",
    "Each query MUST tackle the question from a different viewpoint, we want to get a variety of RELEVANT search results.\n",
    "Each query MUST be in one line and one line only. You SHOULD NOT include any preamble or explanations, and you SHOULD NOT answer the questions or add anything else, just geenrate the queries.\"\"\"\n",
    "variation_user_command_prompt_template = \"Original question: {query}\"\n",
    "variation_user_example_prompt_template = \"Example output:\\n\"\n",
    "for i in range(varc):\n",
    "    variation_user_example_prompt_template += f\" {i + 1}. Query variation\\n\"\n",
    "\n",
    "variation_user_output_prompt_template = \"OUTPUT ({varc} numbered queries):\"\n",
    "\n",
    "variation_prompt = ChatPromptTemplate.from_messages([\n",
    "    SystemMessagePromptTemplate.from_template(variation_system_prompt),\n",
    "    HumanMessagePromptTemplate.from_template(variation_user_command_prompt_template),\n",
    "    HumanMessagePromptTemplate.from_template(variation_user_example_prompt_template),\n",
    "    HumanMessagePromptTemplate.from_template(variation_user_output_prompt_template)\n",
    "])"
   ]
  },
  {
   "cell_type": "code",
   "execution_count": 30,
   "id": "aff3dc60-3860-40fc-a719-8f805ae52dc7",
   "metadata": {
    "tags": []
   },
   "outputs": [],
   "source": [
    "from operator import itemgetter\n",
    "from langchain.schema.output_parser import StrOutputParser\n",
    "\n",
    "variation_chain = (\n",
    "    {\n",
    "        \"query\": itemgetter(\"query\"),\n",
    "        \"varc\": itemgetter(\"varc\")\n",
    "    }\n",
    "    | variation_prompt\n",
    "    | llm\n",
    "    | StrOutputParser()\n",
    ")"
   ]
  },
  {
   "cell_type": "code",
   "execution_count": 31,
   "id": "b049cb98-d19e-423f-b0fc-7cbee94ff0b0",
   "metadata": {
    "tags": []
   },
   "outputs": [
    {
     "data": {
      "text/plain": [
       "' 1. Is there a direct relationship between inventory and cash flow?\\n2. Is there a direct relationship between inventory and cash flow balance?\\n3. Is there a direct relationship between inventory and EBITDA?\\n4. Is there a direct relationship between inventory and inventory management?'"
      ]
     },
     "execution_count": 31,
     "metadata": {},
     "output_type": "execute_result"
    }
   ],
   "source": [
    "query_variations = variation_chain.invoke({\"query\": query, \"varc\": varc})\n",
    "query_variations"
   ]
  },
  {
   "cell_type": "code",
   "execution_count": 32,
   "id": "b9dec24b-5d1f-4ffb-bf16-f43ba95d9162",
   "metadata": {
    "tags": []
   },
   "outputs": [
    {
     "data": {
      "text/plain": [
       "['How much inventory should I have?',\n",
       " 'Is there a direct relationship between inventory and cash flow?',\n",
       " 'Is there a direct relationship between inventory and cash flow balance?',\n",
       " 'Is there a direct relationship between inventory and EBITDA?',\n",
       " 'Is there a direct relationship between inventory and inventory management?']"
      ]
     },
     "execution_count": 32,
     "metadata": {},
     "output_type": "execute_result"
    }
   ],
   "source": [
    "queries = [query]\n",
    "for query_variation in query_variations.split(\"\\n\")[:varc]:\n",
    "    dot_index = query_variation.index(\".\")\n",
    "    q = query_variation[dot_index + 1:].strip()\n",
    "    if q not in queries:\n",
    "        queries.append(q)\n",
    "\n",
    "queries"
   ]
  },
  {
   "cell_type": "code",
   "execution_count": 33,
   "id": "e4e90e5d-06e6-4ee8-bfdc-f1d24fd27873",
   "metadata": {},
   "outputs": [
    {
     "data": {
      "text/plain": [
       "True"
      ]
     },
     "execution_count": 33,
     "metadata": {},
     "output_type": "execute_result"
    }
   ],
   "source": [
    "import weaviate\n",
    "\n",
    "auth_config = weaviate.AuthApiKey(api_key=weaviate_api_key)\n",
    "\n",
    "client = weaviate.Client(\n",
    "  url=weaviate_url,\n",
    "  auth_client_secret=auth_config,\n",
    "  additional_headers={\"X-Cohere-Api-Key\": cohere_api_key}\n",
    ")\n",
    "client.is_ready()"
   ]
  },
  {
   "cell_type": "code",
   "execution_count": 34,
   "id": "3f8b367d-3c79-40cb-826e-d0c08c1f4660",
   "metadata": {
    "tags": []
   },
   "outputs": [],
   "source": [
    "from langchain.embeddings import CohereEmbeddings\n",
    "from langchain.vectorstores import Weaviate\n",
    "\n",
    "index_name = \"Help\"\n",
    "text_key = \"text\"\n",
    "vectorstore = Weaviate(client, index_name, text_key)\n",
    "vectorstore._query_attrs = [\"text\", \"title\", \"category\", \"slug\", \"_additional {distance}\"]\n",
    "vectorstore.embedding = CohereEmbeddings(model=\"embed-english-v2.0\", cohere_api_key=cohere_api_key)"
   ]
  },
  {
   "cell_type": "code",
   "execution_count": 35,
   "id": "4bb150c7-ecdb-4861-ab9d-f6cbc5808604",
   "metadata": {
    "tags": []
   },
   "outputs": [],
   "source": [
    "# Retrieve multi document sets\n",
    "doc_count = 15\n",
    "doc_sets = []\n",
    "for q in queries:\n",
    "    doc_sets.append(vectorstore.similarity_search_by_text(q, k=doc_count))"
   ]
  },
  {
   "cell_type": "code",
   "execution_count": 36,
   "id": "8a818941-d443-423d-84fa-88548cd9c7a3",
   "metadata": {
    "tags": []
   },
   "outputs": [],
   "source": [
    "doc_hash = dict()\n",
    "for doc_set in doc_sets:\n",
    "    for rank, doc in enumerate(doc_set):\n",
    "        title = doc.metadata['title']\n",
    "        doc_hash[title] = True"
   ]
  },
  {
   "cell_type": "code",
   "execution_count": 37,
   "id": "c7af76f0-9d28-4f27-8040-8642cf170a2f",
   "metadata": {
    "tags": []
   },
   "outputs": [
    {
     "data": {
      "text/plain": [
       "dict_keys(['Asset Inputs', 'Inventory', 'Inventory Weeks to Hold', 'Accounts Receivable', 'Accrual Basis', 'Income Statement', 'Warrant Information', 'Cash-Beginning Working Capital', 'Accounts Receivable and Inventory Write Off', 'Cash Flow Control', 'Borrowing Base Repayment', 'EBITDA Multiple', 'EBITDA Projection Inputs', 'EBITDA Debt Multiples', 'EBITDA Definition'])"
      ]
     },
     "execution_count": 37,
     "metadata": {},
     "output_type": "execute_result"
    }
   ],
   "source": [
    "doc_hash.keys()"
   ]
  },
  {
   "cell_type": "code",
   "execution_count": 38,
   "id": "2810ab3b-0c6a-4ce6-8662-cd6a2a79bb74",
   "metadata": {
    "tags": []
   },
   "outputs": [],
   "source": [
    "# Fuse + rerank document sets\n",
    "rerank_k = 60\n",
    "fused_scores = dict()\n",
    "doc_map = dict()\n",
    "for doc_set in doc_sets:\n",
    "    for rank, doc in enumerate(doc_set):\n",
    "        title = doc.metadata['title']\n",
    "        if not title in doc_map:\n",
    "            doc_map[title] = doc\n",
    "\n",
    "        if title not in fused_scores:\n",
    "            fused_scores[title] = 0\n",
    "\n",
    "        fused_scores[title] += 1 / (rank + rerank_k)\n",
    "\n",
    "reranked_results = [\n",
    "    (doc_map[title], score)\n",
    "    for title, score in sorted(fused_scores.items(), key=lambda x: x[1], reverse=True)\n",
    "]"
   ]
  },
  {
   "cell_type": "code",
   "execution_count": 39,
   "id": "9eecc860-6a37-4079-9e6b-7f5db3a3535c",
   "metadata": {
    "tags": []
   },
   "outputs": [
    {
     "data": {
      "text/plain": [
       "['Inventory',\n",
       " 'EBITDA Multiple',\n",
       " 'Inventory Weeks to Hold',\n",
       " 'Accounts Receivable',\n",
       " 'Accrual Basis',\n",
       " 'Income Statement',\n",
       " 'EBITDA Definition',\n",
       " 'Warrant Information',\n",
       " 'Cash-Beginning Working Capital',\n",
       " 'Asset Inputs',\n",
       " 'EBITDA Debt Multiples',\n",
       " 'EBITDA Projection Inputs',\n",
       " 'Cash Flow Control',\n",
       " 'Borrowing Base Repayment',\n",
       " 'Accounts Receivable and Inventory Write Off']"
      ]
     },
     "execution_count": 39,
     "metadata": {},
     "output_type": "execute_result"
    }
   ],
   "source": [
    "[r[0].metadata[\"title\"] for r in reranked_results]"
   ]
  },
  {
   "cell_type": "code",
   "execution_count": 40,
   "id": "1675d590-f7a0-4d5e-82e1-c3beb40c2818",
   "metadata": {},
   "outputs": [],
   "source": [
    "def reciprocal_rank_fusion(results: list[list], k=60):\n",
    "    fused_scores = {}\n",
    "    for docs in results:\n",
    "        # Assumes the docs are returned in sorted order of relevance\n",
    "        for rank, doc in enumerate(docs):\n",
    "            doc_str = dumps(doc)\n",
    "            if doc_str not in fused_scores:\n",
    "                fused_scores[doc_str] = 0\n",
    "            previous_score = fused_scores[doc_str]\n",
    "            fused_scores[doc_str] += 1 / (rank + k)\n",
    "\n",
    "    reranked_results = [\n",
    "        (loads(doc), score)\n",
    "        for doc, score in sorted(fused_scores.items(), key=lambda x: x[1], reverse=True)\n",
    "    ]\n",
    "    return reranked_results"
   ]
  },
  {
   "cell_type": "code",
   "execution_count": 42,
   "id": "afdde5ff-db35-4ead-874a-a7e2001c78ff",
   "metadata": {},
   "outputs": [],
   "source": [
    "import cohere\n",
    "co = cohere.Client(cohere_api_key)"
   ]
  },
  {
   "cell_type": "code",
   "execution_count": 45,
   "id": "1f4814c5-8119-47fb-978a-dbfaeafe548a",
   "metadata": {
    "tags": []
   },
   "outputs": [],
   "source": [
    "top_k_doc = 5\n",
    "documents_to_cohere_rank = []\n",
    "for rrr in reranked_results:\n",
    "    documents_to_cohere_rank.append(rrr[0].page_content)\n",
    "\n",
    "cohere_ranks = co.rerank(\n",
    "    query=query,\n",
    "    documents=documents_to_cohere_rank,\n",
    "    max_chunks_per_doc=100,\n",
    "    top_n=top_k_doc,\n",
    "    model=\"rerank-english-v2.0\"\n",
    ")"
   ]
  },
  {
   "cell_type": "code",
   "execution_count": 54,
   "id": "52e32e53-e3ef-4a54-88d0-d4ac8c3ee97e",
   "metadata": {
    "tags": []
   },
   "outputs": [
    {
     "ename": "TypeError",
     "evalue": "object of type 'Reranking' has no len()",
     "output_type": "error",
     "traceback": [
      "\u001b[0;31m---------------------------------------------------------------------------\u001b[0m",
      "\u001b[0;31mTypeError\u001b[0m                                 Traceback (most recent call last)",
      "\u001b[0;32m/tmp/ipykernel_5622/3944423613.py\u001b[0m in \u001b[0;36m<cell line: 1>\u001b[0;34m()\u001b[0m\n\u001b[0;32m----> 1\u001b[0;31m \u001b[0mlen\u001b[0m\u001b[0;34m(\u001b[0m\u001b[0mcohere_ranks\u001b[0m\u001b[0;34m)\u001b[0m\u001b[0;34m\u001b[0m\u001b[0;34m\u001b[0m\u001b[0m\n\u001b[0m",
      "\u001b[0;31mTypeError\u001b[0m: object of type 'Reranking' has no len()"
     ]
    }
   ],
   "source": [
    "len(cohere_ranks)"
   ]
  },
  {
   "cell_type": "code",
   "execution_count": 50,
   "id": "03a58335-9cf9-46a3-a0a5-93e3ec9d8dc4",
   "metadata": {
    "tags": []
   },
   "outputs": [
    {
     "data": {
      "text/plain": [
       "[RerankResult<document['text']: measure of a Company's true performance from its operations., index: 1, relevance_score: 0.4672406>,\n",
       " RerankResult<document['text']: # Inventory\n",
       " ## Category: Inventory\n",
       " Inventory is unused material and supplies used to create finished product as well as unsold finished product.\n",
       " Inventory includes Work in Process which will include allocated manufacturing labor as well as the direct materials and supplies of unfinished Finished Product.\n",
       " Unsold completed Finished Product Inventory includes allocated direct manufacturing labor as well as the direct materials and supplies.\n",
       " Cash paid to create inventory (see Inventory - Future Terms Set-up) or User capitalized expenses (see Info Browser - Individually Scheduled Income/Expense, Capitalized Expenses) is counted as an Inventory Asset and not counted as an Expense in either the ThruThink Accrual or Cash Basis method of accounting (see Info Browser - Tax Rates). Therefore when the User chooses the ThruThink Cash Basis for calculation of income taxes, cash paid for inventory will not be counted as an expense for income tax purposes.\n",
       " ### Inventory Replenish\n",
       " When Inventory is written off, including the Initial Inventory at the time of Company acquisition, the User can specify how much should be replenished the next year and how many weeks it should take to replenish.\n",
       " The Year 0 Inputs pertain to the Initial Inventory write off at the time of Company Acquisition (See Asset Input page).\n",
       " For the Weeks to replenish, enter a whole number between 0 and 52. Specific calculations only are made for years 1-3. Week to Week calculations are only made for Years 1-3.\n",
       " The Inventory replenish amount is in addition to the normal amount of inventory being generated for the current year sales therefore there it causes a greater demand on cash flow. The greater amount to replenish and the shorter time desired, the greater impact on cash flow requirements.\n",
       " ### COGS to be Inventoried\n",
       " Generally when a product is manufactured or purchased for resale, the cost of the item will be put into inventory as an asset. When the item is then sold,  or combined with other items and sold, the cost of the item(s) will be taken out of inventory and expensed as a part of Cost of Goods Sold (COGS).\n",
       " The total COGS for the item sold however will also contain other costs that are incurred at the time of sale such as packaging, shipping etc. The percent of COGS to be inventoried therefore is the percent of the total COGS that are expenses purchased for inventory to be used at a later date.\n",
       " , index: 0, relevance_score: 0.45392746>,\n",
       " RerankResult<document['text']: indicate how long the inventory will be carried until sold from 0 - 52 Weeks (Wks to Hold)., index: 3, relevance_score: 0.32231265>,\n",
       " RerankResult<document['text']: A direct input for Earnings before Interest, Income Taxes, Depreciation and Amortization (EBITDA) may be entered. Since EBITDA is naturally derived as a result of Sales less COGS and Operating Expenses, a direct input for EBITDA will override all results from Sales less COGS and Operating Expenses., index: 11, relevance_score: 0.32209936>,\n",
       " RerankResult<document['text']: Inventory is expensed when it is used. Cash Flow reflects automatic purchases and usage governed by User Inputs for Weeks of Inventory on hand and % of Expenses that actually go into Inventory., index: 4, relevance_score: 0.25109637>]"
      ]
     },
     "execution_count": 50,
     "metadata": {},
     "output_type": "execute_result"
    }
   ],
   "source": [
    "[crr for crr in cohere_ranks]"
   ]
  },
  {
   "cell_type": "code",
   "execution_count": 52,
   "id": "d03b016d-63e9-4cb8-908c-19efffb163ba",
   "metadata": {
    "tags": []
   },
   "outputs": [],
   "source": [
    "context = \"\"\n",
    "documents = []\n",
    "for index, crr in enumerate(cohere_ranks):\n",
    "    if context:\n",
    "        context += \"\\n\"\n",
    "\n",
    "    rrr = reranked_results[crr.index]\n",
    "    context_content = rrr[0].page_content  # .replace(\"\\n\", \" \")\n",
    "    context += f\"{index + 1}. context: `{context_content}`\"\n",
    "    documents.append(dict(\n",
    "        id=rrr[0].metadata[\"slug\"],\n",
    "        title=rrr[0].metadata[\"title\"],\n",
    "        category=rrr[0].metadata[\"category\"],\n",
    "        snippet=rrr[0].page_content,\n",
    "    ))"
   ]
  },
  {
   "cell_type": "code",
   "execution_count": 53,
   "id": "eba8a3a5-5bd1-4d09-ae51-60bf271d1682",
   "metadata": {
    "tags": []
   },
   "outputs": [
    {
     "data": {
      "text/plain": [
       "\"1. context: `measure of a Company's true performance from its operations.`\\n2. context: `# Inventory\\n## Category: Inventory\\nInventory is unused material and supplies used to create finished product as well as unsold finished product.\\nInventory includes Work in Process which will include allocated manufacturing labor as well as the direct materials and supplies of unfinished Finished Product.\\nUnsold completed Finished Product Inventory includes allocated direct manufacturing labor as well as the direct materials and supplies.\\nCash paid to create inventory (see Inventory - Future Terms Set-up) or User capitalized expenses (see Info Browser - Individually Scheduled Income/Expense, Capitalized Expenses) is counted as an Inventory Asset and not counted as an Expense in either the ThruThink Accrual or Cash Basis method of accounting (see Info Browser - Tax Rates). Therefore when the User chooses the ThruThink Cash Basis for calculation of income taxes, cash paid for inventory will not be counted as an expense for income tax purposes.\\n### Inventory Replenish\\nWhen Inventory is written off, including the Initial Inventory at the time of Company acquisition, the User can specify how much should be replenished the next year and how many weeks it should take to replenish.\\nThe Year 0 Inputs pertain to the Initial Inventory write off at the time of Company Acquisition (See Asset Input page).\\nFor the Weeks to replenish, enter a whole number between 0 and 52. Specific calculations only are made for years 1-3. Week to Week calculations are only made for Years 1-3.\\nThe Inventory replenish amount is in addition to the normal amount of inventory being generated for the current year sales therefore there it causes a greater demand on cash flow. The greater amount to replenish and the shorter time desired, the greater impact on cash flow requirements.\\n### COGS to be Inventoried\\nGenerally when a product is manufactured or purchased for resale, the cost of the item will be put into inventory as an asset. When the item is then sold,  or combined with other items and sold, the cost of the item(s) will be taken out of inventory and expensed as a part of Cost of Goods Sold (COGS).\\nThe total COGS for the item sold however will also contain other costs that are incurred at the time of sale such as packaging, shipping etc. The percent of COGS to be inventoried therefore is the percent of the total COGS that are expenses purchased for inventory to be used at a later date.\\n`\\n3. context: `indicate how long the inventory will be carried until sold from 0 - 52 Weeks (Wks to Hold).`\\n4. context: `A direct input for Earnings before Interest, Income Taxes, Depreciation and Amortization (EBITDA) may be entered. Since EBITDA is naturally derived as a result of Sales less COGS and Operating Expenses, a direct input for EBITDA will override all results from Sales less COGS and Operating Expenses.`\\n5. context: `Inventory is expensed when it is used. Cash Flow reflects automatic purchases and usage governed by User Inputs for Weeks of Inventory on hand and % of Expenses that actually go into Inventory.`\""
      ]
     },
     "execution_count": 53,
     "metadata": {},
     "output_type": "execute_result"
    }
   ],
   "source": [
    "context"
   ]
  },
  {
   "cell_type": "code",
   "execution_count": 45,
   "id": "16f8069f-692e-44af-9f43-35ab9c0e631f",
   "metadata": {
    "tags": []
   },
   "outputs": [],
   "source": [
    "chat_system_prompt = \"\"\"You are an assistant specialized in ThruThink budgeting analysis and projection web application usage.\n",
    "You are also knowledgeable in a wide range of budgeting and accounting topics, including EBITDA, cash flow balance, inventory management, and more.\n",
    "While you strive to provide accurate information and assistance, please keep in mind that you are not a licensed investment advisor, financial advisor, or tax advisor.\n",
    "Therefore, you cannot provide personalized investment advice, financial planning, or tax guidance.\n",
    "You are here to assist with ThruThink-related inquiries, or offer general information, answer questions to the best of your knowledge.\n",
    "When provided, factor in any pieces of retrieved context to answer the question. Also factor in any\n",
    "If you don't know the answer, just say that \"I don't know\", don't try to make up an answer.\"\"\"\n",
    "\n",
    "f\"\"\"Use the following pieces of retrieved context to answer the question.\n",
    "---\n",
    "Contexts: {context}\n",
    "---\n",
    "Question: {query}\n",
    "Answer:\n",
    "\"\"\"\n",
    "\n",
    "# cohere_model = \"d2cd24fd-67fd-4610-ab84-a37f9e635313-ft\"\n",
    "cohere_model = \"command-nightly\"\n",
    "response = co.chat(\n",
    "    model=cohere_model,\n",
    "    prompt_truncation='auto',\n",
    "    temperature=0.0,\n",
    "    connectors=[{\"id\": \"web-search\"}],\n",
    "    citation_quality=\"accurate\",\n",
    "    # documents=documents,\n",
    "    # conversation_id=\"GUID\",\n",
    "    preamble_override=chat_system_prompt,\n",
    "    message=query,\n",
    ")"
   ]
  },
  {
   "cell_type": "code",
   "execution_count": 10,
   "id": "cb3f3363-6d93-428a-970a-95f3def2a8ff",
   "metadata": {
    "tags": []
   },
   "outputs": [
    {
     "data": {
      "text/plain": [
       "cohere.Chat {\n",
       "\tid: 14039cb7-ef0b-43fa-896d-bc3bad5b8929\n",
       "\tresponse_id: 14039cb7-ef0b-43fa-896d-bc3bad5b8929\n",
       "\tgeneration_id: aca1c93c-0baf-4708-a22f-9f8565cc902f\n",
       "\tmessage: How much inventory should I have?\n",
       "\ttext: Businesses should always hold enough stock to meet unexpected spikes in consumer demand but not too much to cause overstock issues. The amount of inventory a business should hold depends on various factors such as customer demand, lead time to process orders, holding costs, and order costs. \n",
       "\n",
       "For example, if a business has a lead time of four weeks to process customer orders and their customers place orders for 100 pieces of a product twice a week, they should have enough inventory to cover 200 pieces to account for the lead time and expected orders. \n",
       "\n",
       "Additionally, businesses may choose to hold more inventory during peak seasons or periods, such as summer or holidays like Christmas, to account for increased customer demand. \n",
       "\n",
       "It's important to note that the appropriate inventory level can vary widely depending on the specific business and industry, and it may be helpful to consult with an expert or conduct a thorough analysis of the business's unique circumstances to determine the optimal inventory level. \n",
       "\n",
       "Is there anything specific you would like to know regarding inventory management or related topics?\n",
       "\tconversation_id: None\n",
       "\tprompt: None\n",
       "\tchat_history: None\n",
       "\tpreamble: None\n",
       "\tclient: <cohere.client.Client object at 0x7f2b4c4e9940>\n",
       "\ttoken_count: {'prompt_tokens': 1479, 'response_tokens': 207, 'total_tokens': 1686, 'billed_tokens': 363}\n",
       "\tmeta: {'api_version': {'version': '1'}}\n",
       "\tis_search_required: None\n",
       "\tcitations: [{'start': 51, 'end': 87, 'text': 'unexpected spikes in consumer demand', 'document_ids': ['web-search_3:3']}, {'start': 114, 'end': 131, 'text': 'overstock issues.', 'document_ids': ['web-search_3:3']}, {'start': 214, 'end': 229, 'text': 'customer demand', 'document_ids': ['web-search_2:8']}, {'start': 231, 'end': 258, 'text': 'lead time to process orders', 'document_ids': ['web-search_2:8']}, {'start': 260, 'end': 273, 'text': 'holding costs', 'document_ids': ['web-search_1:7']}, {'start': 279, 'end': 291, 'text': 'order costs.', 'document_ids': ['web-search_1:7']}, {'start': 327, 'end': 377, 'text': 'lead time of four weeks to process customer orders', 'document_ids': ['web-search_2:8']}, {'start': 388, 'end': 451, 'text': 'customers place orders for 100 pieces of a product twice a week', 'document_ids': ['web-search_2:8']}, {'start': 490, 'end': 506, 'text': 'cover 200 pieces', 'document_ids': ['web-search_2:8']}, {'start': 625, 'end': 691, 'text': 'peak seasons or periods, such as summer or holidays like Christmas', 'document_ids': ['web-search_3:3']}]\n",
       "\tdocuments: [{'id': 'web-search_3:3', 'snippet': '\\n\\nBusinesses should always hold enough stock to be able to meet unexpected spikes in consumer demand, but not so much that an overstock issue arises. Navigating this fine line between ‘just enough’ and ‘too much’ is an ongoing challenge process that managers struggle to overcome year in and year out.\\n\\nA good stock control software system, that keeps track of inventory in real-time, is a must for businesses seeking to ensure that their inventory levels are up to the task of meeting unanticipated surges in demand.\\n\\nA time to buy and a time to buy more inventory\\n\\nTypically, most seasonally affected businesses will choose to hold more inventory during peak seasons or event periods – such as during summer or for Christmas, Halloween or Valentine’s day.', 'title': 'Four very good reasons to hold inventory - Unleashed Software', 'url': 'https://www.unleashedsoftware.com/blog/four-very-good-reasons-hold-inventory'}, {'id': 'web-search_2:8', 'snippet': ' If your internal lead time to process 100 pieces is a week and your customer orders 100 pieces of your product twice per week, you need to have enough inventory on hand to cover a week’s worth of customer demand (i.e. 200 pieces).\\n\\nWhen you order a product from your supplier, how long does it take for that product to reach your dock (or doorstep or offsite mailbox or wherever your small business receives deliveries)? There are two ways to know this:\\n\\nKeep track of your supplier’s performance.\\n\\nIf your supplier tells you they can deliver to you in four weeks but you’ve been keeping track of their performance and because of production issues, shipping delays, hang-ups at customs and other unexplained delays, you’ve really been receiving their deliveries in eight weeks, guess what?', 'title': 'How Much Inventory Should My Small Business Hold?', 'url': 'https://www.liveabout.com/how-much-inventory-should-your-small-business-hold-4145308'}, {'id': 'web-search_1:7', 'snippet': '\\n\\nWhereas, Mr “Bulk Buy” spends 40 minutes shopping (a bigger shop but only every 4 weeks), and also values his time at $60 dollars per hour. His total ordering cost is $40 for the whole shop, which, when spread across say 40 items purchased, is $1 for each bag of frozen vegetables.\\n\\nHolding costs are the costs to possess inventory. In business, this might include warehousing, lighting, heating, (or cooling and freezing), insurance, depreciation, damage, loss, administration staff to look after it, and probably several more. In the context of home grocery shopping, this means the cost of storing the frozen vegetables in the freezer in your home.', 'title': 'How Much Inventory Should a Business Buy / Hold? – Inventory Management - Rowtons Training', 'url': 'https://rowtonstraining.com/how-much-inventory-should-a-business-buy-hold-inventory-management/'}]\n",
       "\tsearch_results: [{'search_query': {'text': 'how much inventory should a business hold', 'generation_id': '15461de7-3073-468b-bcfa-19c10902ca97'}, 'document_ids': ['web-search_1:7', 'web-search_2:8', 'web-search_3:3'], 'connector': {'id': 'web-search'}}]\n",
       "\tsearch_queries: [{'text': 'how much inventory should a business hold', 'generation_id': '15461de7-3073-468b-bcfa-19c10902ca97'}]\n",
       "}"
      ]
     },
     "execution_count": 10,
     "metadata": {},
     "output_type": "execute_result"
    }
   ],
   "source": [
    "response"
   ]
  },
  {
   "cell_type": "code",
   "execution_count": 46,
   "id": "818b0414-a66c-4ca7-a04f-31c2cb51a41d",
   "metadata": {
    "tags": []
   },
   "outputs": [
    {
     "data": {
      "text/plain": [
       "cohere.Chat {\n",
       "\tid: f72b0ce3-9c3d-4719-9c4d-52b9391465f7\n",
       "\tresponse_id: f72b0ce3-9c3d-4719-9c4d-52b9391465f7\n",
       "\tgeneration_id: c897a507-3ac4-4cab-9822-4718910ca121\n",
       "\tmessage: How much inventory should I have?\n",
       "\ttext: Inventory is essentially unused materials and supplies that help in creating a finished product or unsold finished products. \n",
       "\n",
       "To determine the amount of inventory you should maintain, you'll need to consider the average amount of time you plan to hold inventory for use. This metric is known as \"Inventory Weeks to Hold\". You can input this as a whole number representing the number of weeks. \n",
       "\n",
       "If you're entering beginning inventory amounts, this will help to record the beginning inventory for the end of the period just prior to Year 1 (the Effective Date). Additionally, you'll be required to enter the Sale Value of the inventory being used, which represents the value at which the inventory will be sold.\n",
       "\tconversation_id: None\n",
       "\tprompt: None\n",
       "\tchat_history: None\n",
       "\tpreamble: None\n",
       "\tclient: <cohere.client.Client object at 0x7f41618013d0>\n",
       "\ttoken_count: {'prompt_tokens': 1727, 'response_tokens': 138, 'total_tokens': 1865, 'billed_tokens': 309}\n",
       "\tmeta: {'api_version': {'version': '1'}}\n",
       "\tis_search_required: None\n",
       "\tcitations: [{'start': 25, 'end': 124, 'text': 'unused materials and supplies that help in creating a finished product or unsold finished products.', 'document_ids': ['Inventory_Inventory']}, {'start': 213, 'end': 271, 'text': 'average amount of time you plan to hold inventory for use.', 'document_ids': ['Inventory_InventoryWeekstoHold']}, {'start': 296, 'end': 321, 'text': '\"Inventory Weeks to Hold\"', 'document_ids': ['Inventory_InventoryWeekstoHold']}, {'start': 347, 'end': 393, 'text': 'whole number representing the number of weeks.', 'document_ids': ['Inventory_InventoryWeekstoHold']}, {'start': 462, 'end': 560, 'text': 'record the beginning inventory for the end of the period just prior to Year 1 (the Effective Date)', 'document_ids': ['Assets_IndividuallyScheduledSectionBInventoryYear1Input']}, {'start': 598, 'end': 711, 'text': 'enter the Sale Value of the inventory being used, which represents the value at which the inventory will be sold.', 'document_ids': ['Assets_IndividuallyScheduledSectionBInventoryYear1Input']}]\n",
       "\tdocuments: [{'category': 'Inventory', 'id': 'Inventory_Inventory', 'snippet': '# Inventory\\n## Category: Inventory\\nInventory is unused material and supplies used to create finished product as well as unsold finished product.\\nInventory includes Work in Process which will include allocated manufacturing labor as well as the direct materials and supplies of unfinished Finished Product.\\nUnsold completed Finished Product Inventory includes allocated direct manufacturing labor as well as the direct materials and supplies.\\nCash paid to create inventory (see Inventory - Future Terms Set-up) or User capitalized expenses (see Info Browser - Individually Scheduled Income/Expense, Capitalized Expenses) is counted as an Inventory Asset and not counted as an Expense in either the ThruThink Accrual or Cash Basis method of accounting (see Info Browser - Tax Rates). Therefore when the User chooses the ThruThink Cash Basis for calculation of income taxes, cash paid for inventory will not be counted as an expense for income tax purposes.\\n### Inventory Replenish\\nWhen Inventory is written off, including the Initial Inventory at the time of Company acquisition, the User can specify how much should be replenished the next year and how many weeks it should take to replenish.\\nThe Year 0 Inputs pertain to the Initial Inventory write off at the time of Company Acquisition (See Asset Input page).\\nFor the Weeks to replenish, enter a whole number between 0 and 52. Specific calculations only are made for years 1-3. Week to Week calculations are only made for Years 1-3.\\nThe Inventory replenish amount is in addition to the normal amount of inventory being generated for the current year sales therefore there it causes a greater demand on cash flow. The greater amount to replenish and the shorter time desired, the greater impact on cash flow requirements.\\n### COGS to be Inventoried\\nGenerally when a product is manufactured or purchased for resale, the cost of the item will be put into inventory as an asset. When the item is then sold,  or combined with other items and sold, the cost of the item(s) will be taken out of inventory and expensed as a part of Cost of Goods Sold (COGS).\\nThe total COGS for the item sold however will also contain other costs that are incurred at the time of sale such as packaging, shipping etc. The percent of COGS to be inventoried therefore is the percent of the total COGS that are expenses purchased for inventory to be used at a later date.\\n', 'title': 'Inventory'}, {'category': 'Inventory', 'id': 'Inventory_InventoryWeekstoHold', 'snippet': 'Question: What is the definition of \"Inventory Weeks to Hold\"?\\nAnswer: Inventory Weeks to Hold refers to the average amount of time that inventory will be held for use. It represents the duration over which inventory will be available and ready for consumption. This metric is used to determine the amount of inventory that should be maintained in stock at any given time. The Weeks to Hold value is typically evenly distributed over the specified time period. \\n\\nThe concept of Inventory Weeks to Hold is applicable to the Beginning Inventory balances. After this initial period, the input for Future Ave Weeks to Hold will be used for the subsequent Horizon Years. If no selection is made for future years, the default value will be the same as the initial input on the Transaction Sheet. If the Weeks to Hold value is left blank or set to 0, it indicates that no inventory will be held for use during that time.\\n\\nIn the case of an Existing Company purchasing a Target Company, a weighted average calculation is performed for Year 1. This calculation considers the Weeks to Hold values listed on the Transaction Sheet for both the Target Company and the initial input for the Existing Company. For subsequent years, the Ave Weeks to Hold values specified in the Future Input will be used without any weighted average calculation. If no selection is indicated in the Transaction Sheet, the initial input for the Existing Company will be used for future years.\\n\\nThe Inventory Weeks to Hold input can be found in the Inventory Set Up pages for the Transaction Sheet and the Existing Company Inventory Beginning Balances. It should be entered as a whole number, representing the number of weeks, and not as a fraction or portion of a week.', 'title': 'Inventory Weeks to Hold'}, {'category': 'Assets', 'id': 'Assets_IndividuallyScheduledSectionBInventoryYear1Input', 'snippet': 'Question: What is the purpose of entering inventory amounts on this page?\\nAnswer: The purpose of entering inventory amounts on this page is to record the beginning inventory for the end of the period just prior to Year 1 (the Effective Date). By entering the monthly information, it will indicate when the beginning inventory is to be used during Year 1. The inventory amounts entered will feed to either the Transaction Sheet or the Existing Company financial information, depending on the \"Show On\" selection, as the beginning inventory as of the Effective Date. Additionally, for every entry made on this page, the user must also enter the Sale Value of the inventory being used, which represents the value at which the inventory will be sold. The Sale Value entries on this page will flow to the Individually Scheduled Section D Income.', 'title': 'Individually Scheduled Section B Inventory Year 1 Input'}]\n",
       "\tsearch_results: None\n",
       "\tsearch_queries: [{'text': 'how much inventory should a business hold', 'generation_id': '754b04f9-7e32-4a2a-bc53-bde7d2106f1d'}]\n",
       "}"
      ]
     },
     "execution_count": 46,
     "metadata": {},
     "output_type": "execute_result"
    }
   ],
   "source": [
    "chat_system_prompt = \"\"\"You are an assistant specialized in ThruThink budgeting analysis and projection web application usage.\n",
    "You are also knowledgeable in a wide range of budgeting and accounting topics, including EBITDA, cash flow balance, inventory management, and more.\n",
    "While you strive to provide accurate information and assistance, please keep in mind that you are not a licensed investment advisor, financial advisor, or tax advisor.\n",
    "Therefore, you cannot provide personalized investment advice, financial planning, or tax guidance.\n",
    "You are here to assist with ThruThink-related inquiries, or offer general information, answer questions to the best of your knowledge.\n",
    "When provided, factor in any pieces of retrieved context to answer the question.\n",
    "If you don't know the answer, just say that \"I don't know\", don't try to make up an answer.\"\"\"\n",
    "\n",
    "f\"\"\"Use the following pieces of retrieved context to answer the question.\n",
    "Contexts: {context}\n",
    "Question: {query}\n",
    "Answer:\n",
    "\"\"\"\n",
    "\n",
    "# cohere_model = \"d2cd24fd-67fd-4610-ab84-a37f9e635313-ft\"\n",
    "cohere_model = \"command-nightly\"\n",
    "response = co.chat(\n",
    "    model=cohere_model,\n",
    "    prompt_truncation='auto',\n",
    "    temperature=0.0,\n",
    "    # connectors=[{\"id\": \"web-search\"}],\n",
    "    citation_quality=\"accurate\",\n",
    "    documents=documents,\n",
    "    # conversation_id=\"GUID\",\n",
    "    preamble_override=chat_system_prompt,\n",
    "    message=query,\n",
    ")\n",
    "response"
   ]
  }
 ],
 "metadata": {
  "kernelspec": {
   "display_name": "Python 3 (ipykernel)",
   "language": "python",
   "name": "python3"
  },
  "language_info": {
   "codemirror_mode": {
    "name": "ipython",
    "version": 3
   },
   "file_extension": ".py",
   "mimetype": "text/x-python",
   "name": "python",
   "nbconvert_exporter": "python",
   "pygments_lexer": "ipython3",
   "version": "3.9.13"
  }
 },
 "nbformat": 4,
 "nbformat_minor": 5
}
