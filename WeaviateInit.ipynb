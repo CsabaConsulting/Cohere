{
 "cells": [
  {
   "cell_type": "code",
   "execution_count": 1,
   "id": "e4e90e5d-06e6-4ee8-bfdc-f1d24fd27873",
   "metadata": {},
   "outputs": [
    {
     "data": {
      "text/plain": [
       "True"
      ]
     },
     "execution_count": 1,
     "metadata": {},
     "output_type": "execute_result"
    }
   ],
   "source": [
    "import os\n",
    "import weaviate\n",
    "\n",
    "weaviate_api_key = os.getenv(\"weaviate_api_key\") or \"weaviate_api_key\"\n",
    "weaviate_url = os.getenv(\"weaviate_url\") or \"weaviate_url\"\n",
    "cohere_api_key = os.getenv(\"COHERE_API_KEY\") or \"COHERE_API_KEY\"\n",
    "\n",
    "auth_config = weaviate.AuthApiKey(api_key=weaviate_api_key)\n",
    "\n",
    "client = weaviate.Client(\n",
    "  url=weaviate_url,\n",
    "  auth_client_secret=auth_config,\n",
    "  additional_headers={\"X-Cohere-Api-Key\": cohere_api_key}\n",
    ")\n",
    "client.is_ready()"
   ]
  },
  {
   "cell_type": "code",
   "execution_count": 7,
   "id": "221f0b12-a7fd-412f-8e73-3945d229a8ef",
   "metadata": {
    "tags": []
   },
   "outputs": [],
   "source": [
    "# delete existing schema, (note, this will delete all your weaviate data)\n",
    "client.schema.delete_all()\n",
    "\n",
    "# if client.schema.exists(\"Help\"):\n",
    "#     client.schema.delete_class(\"Help\")\n",
    "\n",
    "# if client.schema.exists(\"QnA\"):\n",
    "#     client.schema.delete_class(\"QnA\")"
   ]
  },
  {
   "cell_type": "code",
   "execution_count": 2,
   "id": "ba94302d-1665-44cd-9e01-2bb08d5744a8",
   "metadata": {},
   "outputs": [
    {
     "name": "stdout",
     "output_type": "stream",
     "text": [
      "The schema has been created\n"
     ]
    }
   ],
   "source": [
    "schema = {\n",
    "    \"classes\": [\n",
    "        {\n",
    "            \"class\": \"Help\",\n",
    "\n",
    "            \"description\": \"ThruThink Help Knowledge Base\",\n",
    "\n",
    "            \"vectorizer\": \"text2vec-cohere\",\n",
    "\n",
    "            \"moduleConfig\": {\n",
    "                \"text2vec-cohere\": {\n",
    "                    \"model\": \"embed-english-v2.0\",\n",
    "                    \"truncate\": \"RIGHT\"\n",
    "                },\n",
    "                \"generative-cohere\": { \n",
    "                    \"model\": \"command-xlarge-nightly\"  # Optional - Defaults to `command-xlarge-nightly`. Can also use`command-xlarge-beta` and `command-xlarge`\n",
    "                }\n",
    "            },\n",
    "\n",
    "            \"vectorIndexConfig\": {\n",
    "                \"distance\": \"cosine\"  # \"dot\" for multi lingual, but \"cosine\" for english. Cosine outperforms dot.\n",
    "            },\n",
    "\n",
    "            \"properties\": [\n",
    "                {\n",
    "                    \"name\": \"text\",\n",
    "                    \"dataType\": [ \"text\" ],\n",
    "                    \"description\": \"Help content or Question and Answer\",\n",
    "                    \"moduleConfig\": {\n",
    "                        \"text2vec-cohere\": {\n",
    "                            \"skip\": False,\n",
    "                            \"vectorizePropertyName\": False\n",
    "                        }\n",
    "                    }\n",
    "                },\n",
    "\n",
    "                {\n",
    "                    \"name\": \"title\",\n",
    "                    \"dataType\": [ \"string\" ],\n",
    "                    \"moduleConfig\": {\n",
    "                        \"text2vec-cohere\": {\n",
    "                            \"skip\": False,\n",
    "                            \"vectorizePropertyName\": False\n",
    "                        }\n",
    "                    }\n",
    "                },\n",
    "\n",
    "                {\n",
    "                    \"name\": \"category\",\n",
    "                    \"dataType\": [ \"string\" ],\n",
    "                    \"moduleConfig\": {\n",
    "                        \"text2vec-cohere\": {\n",
    "                            \"skip\": False,\n",
    "                            \"vectorizePropertyName\": False\n",
    "                        }\n",
    "                    }\n",
    "                },\n",
    "\n",
    "                {\n",
    "                    \"name\": \"slug\",\n",
    "                    \"dataType\": [ \"string\" ],\n",
    "                    \"moduleConfig\": { \"text2vec-cohere\": { \"skip\": True } }\n",
    "                },\n",
    "            ]\n",
    "        },\n",
    "    ]\n",
    "}\n",
    "\n",
    "# add the schema\n",
    "client.schema.create(schema)\n",
    "\n",
    "print(\"The schema has been created\")"
   ]
  }
 ],
 "metadata": {
  "kernelspec": {
   "display_name": "Python 3 (ipykernel)",
   "language": "python",
   "name": "python3"
  },
  "language_info": {
   "codemirror_mode": {
    "name": "ipython",
    "version": 3
   },
   "file_extension": ".py",
   "mimetype": "text/x-python",
   "name": "python",
   "nbconvert_exporter": "python",
   "pygments_lexer": "ipython3",
   "version": "3.9.13"
  }
 },
 "nbformat": 4,
 "nbformat_minor": 5
}
