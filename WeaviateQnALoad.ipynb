{
 "cells": [
  {
   "cell_type": "code",
   "execution_count": 1,
   "id": "e4e90e5d-06e6-4ee8-bfdc-f1d24fd27873",
   "metadata": {},
   "outputs": [
    {
     "data": {
      "text/plain": [
       "True"
      ]
     },
     "execution_count": 1,
     "metadata": {},
     "output_type": "execute_result"
    }
   ],
   "source": [
    "import os\n",
    "import weaviate\n",
    "\n",
    "weaviate_api_key = os.getenv(\"weaviate_api_key\") or \"weaviate_api_key\"\n",
    "weaviate_url = os.getenv(\"weaviate_url\") or \"weaviate_url\"\n",
    "cohere_api_key = os.getenv(\"COHERE_API_KEY\") or \"COHERE_API_KEY\"\n",
    "\n",
    "auth_config = weaviate.AuthApiKey(api_key=weaviate_api_key)\n",
    "\n",
    "client = weaviate.Client(\n",
    "  url=weaviate_url,\n",
    "  auth_client_secret=auth_config,\n",
    "  additional_headers={\"X-Cohere-Api-Key\": cohere_api_key}\n",
    ")\n",
    "client.is_ready()"
   ]
  },
  {
   "cell_type": "code",
   "execution_count": 2,
   "id": "7f1dab66-d354-48e2-bfba-4901c0517600",
   "metadata": {
    "tags": []
   },
   "outputs": [
    {
     "data": {
      "text/plain": [
       "<weaviate.batch.crud_batch.Batch at 0x7f8528addd30>"
      ]
     },
     "execution_count": 2,
     "metadata": {},
     "output_type": "execute_result"
    }
   ],
   "source": [
    "### Step 1 - configure Weaviate Batch, which optimizes CRUD operations in bulk\n",
    "# - starting batch size of 100\n",
    "# - dynamically increase/decrease based on performance\n",
    "# - add timeout retries if something goes wrong\n",
    "\n",
    "client.batch.configure(\n",
    "    batch_size=50,\n",
    "    dynamic=True,\n",
    "    timeout_retries=3,\n",
    ")"
   ]
  },
  {
   "cell_type": "code",
   "execution_count": 3,
   "id": "dddbc43d-fb96-45f2-9010-b2b2a6046bf6",
   "metadata": {
    "tags": []
   },
   "outputs": [],
   "source": [
    "import json\n",
    "from langchain.docstore.document import Document\n",
    "from langchain.text_splitter import MarkdownHeaderTextSplitter, RecursiveCharacterTextSplitter\n",
    "from pathlib import Path\n",
    "\n",
    "input_file_path = Path('./data/finetune/questions.json')\n",
    "\n",
    "with client.batch as batch:\n",
    "    with open(input_file_path, \"r\") as input_file:\n",
    "        file_content = input_file.read()\n",
    "        questions = json.loads(file_content)\n",
    "        file_name = None\n",
    "        title = None\n",
    "        category = None\n",
    "        slug = None\n",
    "        for qna in questions:\n",
    "            if qna[\"source\"] != file_name:\n",
    "                file_name = qna[\"source\"]\n",
    "                with open(file_name, \"r\", encoding=\"utf-8\") as file:\n",
    "                    file_content = file.read()\n",
    "                    lines = file_content.split(\"\\n\")\n",
    "                    title = lines[0][2:].strip()\n",
    "                    category = lines[1][13:].strip()\n",
    "                    slug = file_name.split(\"/\")[-1].split(\".\")[0]\n",
    "\n",
    "                properties = dict(\n",
    "                    text=f\"Question: {qna['question']}\\nAnswer: {qna['answer']}\",\n",
    "                    title=title,\n",
    "                    category=category,\n",
    "                    slug=slug\n",
    "                )\n",
    "                batch.add_data_object(properties, \"Help\")"
   ]
  },
  {
   "cell_type": "code",
   "execution_count": 4,
   "id": "e5c2b246-83af-43d2-9f20-27e93fdb0b98",
   "metadata": {
    "tags": []
   },
   "outputs": [
    {
     "data": {
      "text/plain": [
       "9758"
      ]
     },
     "execution_count": 4,
     "metadata": {},
     "output_type": "execute_result"
    }
   ],
   "source": [
    "len(questions)"
   ]
  }
 ],
 "metadata": {
  "kernelspec": {
   "display_name": "Python 3 (ipykernel)",
   "language": "python",
   "name": "python3"
  },
  "language_info": {
   "codemirror_mode": {
    "name": "ipython",
    "version": 3
   },
   "file_extension": ".py",
   "mimetype": "text/x-python",
   "name": "python",
   "nbconvert_exporter": "python",
   "pygments_lexer": "ipython3",
   "version": "3.9.13"
  }
 },
 "nbformat": 4,
 "nbformat_minor": 5
}
